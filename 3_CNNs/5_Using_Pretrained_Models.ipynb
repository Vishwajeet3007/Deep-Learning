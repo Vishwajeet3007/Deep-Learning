{
  "nbformat": 4,
  "nbformat_minor": 0,
  "metadata": {
    "colab": {
      "provenance": []
    },
    "kernelspec": {
      "name": "python3",
      "display_name": "Python 3"
    },
    "language_info": {
      "name": "python"
    }
  },
  "cells": [
    {
      "cell_type": "code",
      "execution_count": 5,
      "metadata": {
        "id": "g3OGYamEHkLI"
      },
      "outputs": [],
      "source": [
        "from tensorflow.keras.applications import ResNet50\n",
        "from tensorflow.keras.preprocessing import image\n",
        "from tensorflow.keras.applications.resnet50 import preprocess_input,decode_predictions\n",
        "import numpy as np"
      ]
    },
    {
      "cell_type": "code",
      "source": [
        "model = ResNet50(weights='imagenet')"
      ],
      "metadata": {
        "colab": {
          "base_uri": "https://localhost:8080/"
        },
        "id": "YqHxQe-bIrSK",
        "outputId": "d4de5ce3-2bc3-458a-fde2-1d0703dd382f"
      },
      "execution_count": 7,
      "outputs": [
        {
          "output_type": "stream",
          "name": "stdout",
          "text": [
            "Downloading data from https://storage.googleapis.com/tensorflow/keras-applications/resnet/resnet50_weights_tf_dim_ordering_tf_kernels.h5\n",
            "\u001b[1m102967424/102967424\u001b[0m \u001b[32m━━━━━━━━━━━━━━━━━━━━\u001b[0m\u001b[37m\u001b[0m \u001b[1m1s\u001b[0m 0us/step\n"
          ]
        }
      ]
    },
    {
      "cell_type": "code",
      "source": [
        "img_path = '/content/Dog.jpg'\n",
        "img = image.load_img(img_path,target_size=(224,224))\n",
        "x = image.img_to_array(img)\n",
        "x = np.expand_dims(x,axis=0)\n",
        "x = preprocess_input(x)"
      ],
      "metadata": {
        "id": "l9PpTTYxI9cN"
      },
      "execution_count": 10,
      "outputs": []
    },
    {
      "cell_type": "code",
      "source": [
        "preds = model.predict(x)\n",
        "print('Predicted:',decode_predictions(preds,top=3)[0])"
      ],
      "metadata": {
        "colab": {
          "base_uri": "https://localhost:8080/"
        },
        "id": "SrAp6TVgJn4W",
        "outputId": "2693e30e-a10a-4d31-f589-a752f02abbf5"
      },
      "execution_count": 11,
      "outputs": [
        {
          "output_type": "stream",
          "name": "stdout",
          "text": [
            "\u001b[1m1/1\u001b[0m \u001b[32m━━━━━━━━━━━━━━━━━━━━\u001b[0m\u001b[37m\u001b[0m \u001b[1m0s\u001b[0m 283ms/step\n",
            "Predicted: [('n02099601', 'golden_retriever', np.float32(0.42359194)), ('n02104029', 'kuvasz', np.float32(0.37036446)), ('n02111500', 'Great_Pyrenees', np.float32(0.17259014))]\n"
          ]
        }
      ]
    },
    {
      "cell_type": "code",
      "source": [
        "img_path = '/content/Cat.jpg'\n",
        "img = image.load_img(img_path,target_size=(224,224))\n",
        "x = image.img_to_array(img)\n",
        "x = np.expand_dims(x,axis=0)\n",
        "x = preprocess_input(x)\n",
        "preds = model.predict(x)\n",
        "print('Predicted:',decode_predictions(preds,top=3)[0])\n"
      ],
      "metadata": {
        "colab": {
          "base_uri": "https://localhost:8080/"
        },
        "id": "xT2y3jheJxs5",
        "outputId": "32c5ecce-d74b-43b9-a07a-1e8cef1346aa"
      },
      "execution_count": 12,
      "outputs": [
        {
          "output_type": "stream",
          "name": "stdout",
          "text": [
            "\u001b[1m1/1\u001b[0m \u001b[32m━━━━━━━━━━━━━━━━━━━━\u001b[0m\u001b[37m\u001b[0m \u001b[1m0s\u001b[0m 260ms/step\n",
            "Predicted: [('n02123045', 'tabby', np.float32(0.39615786)), ('n02123159', 'tiger_cat', np.float32(0.22379568)), ('n02124075', 'Egyptian_cat', np.float32(0.14339788))]\n"
          ]
        }
      ]
    },
    {
      "cell_type": "code",
      "source": [
        "img_path = '/content/Rabbit.jpg'\n",
        "img = image.load_img(img_path,target_size=(224,224))\n",
        "x = image.img_to_array(img)\n",
        "x = np.expand_dims(x,axis=0)\n",
        "x = preprocess_input(x)\n",
        "preds = model.predict(x)\n",
        "print('Predicted:',decode_predictions(preds,top=3)[0])\n"
      ],
      "metadata": {
        "colab": {
          "base_uri": "https://localhost:8080/"
        },
        "id": "jIV6aGGjJ8RB",
        "outputId": "8625abad-a568-4a90-8c7d-77932e65581f"
      },
      "execution_count": 13,
      "outputs": [
        {
          "output_type": "stream",
          "name": "stdout",
          "text": [
            "\u001b[1m1/1\u001b[0m \u001b[32m━━━━━━━━━━━━━━━━━━━━\u001b[0m\u001b[37m\u001b[0m \u001b[1m0s\u001b[0m 199ms/step\n",
            "Predicted: [('n02326432', 'hare', np.float32(0.5766676)), ('n02325366', 'wood_rabbit', np.float32(0.25221926)), ('n01877812', 'wallaby', np.float32(0.13490555))]\n"
          ]
        }
      ]
    },
    {
      "cell_type": "code",
      "source": [
        "img_path = '/content/Patato.jpeg'\n",
        "img = image.load_img(img_path,target_size=(224,224))\n",
        "x = image.img_to_array(img)\n",
        "x = np.expand_dims(x,axis=0)\n",
        "x = preprocess_input(x)\n",
        "preds = model.predict(x)\n",
        "print('Predicted:',decode_predictions(preds,top=3)[0])\n"
      ],
      "metadata": {
        "colab": {
          "base_uri": "https://localhost:8080/"
        },
        "id": "w_79SnhSKAxn",
        "outputId": "e175102b-c4d2-42c5-a97b-4727aa315e18"
      },
      "execution_count": 15,
      "outputs": [
        {
          "output_type": "stream",
          "name": "stdout",
          "text": [
            "\u001b[1m1/1\u001b[0m \u001b[32m━━━━━━━━━━━━━━━━━━━━\u001b[0m\u001b[37m\u001b[0m \u001b[1m0s\u001b[0m 195ms/step\n",
            "Predicted: [('n07716906', 'spaghetti_squash', np.float32(0.6345496)), ('n07749582', 'lemon', np.float32(0.0662895)), ('n01496331', 'electric_ray', np.float32(0.029034514))]\n"
          ]
        }
      ]
    },
    {
      "cell_type": "code",
      "source": [
        "img_path = '/content/shahrukh khan.jpg'\n",
        "img = image.load_img(img_path,target_size=(224,224))\n",
        "x = image.img_to_array(img)\n",
        "x = np.expand_dims(x,axis=0)\n",
        "x = preprocess_input(x)\n",
        "preds = model.predict(x)\n",
        "print('Predicted:',decode_predictions(preds,top=3)[0])\n"
      ],
      "metadata": {
        "colab": {
          "base_uri": "https://localhost:8080/"
        },
        "id": "1wIfThNlKD8H",
        "outputId": "51a569f5-143a-415a-cb2d-b5b75cf47a98"
      },
      "execution_count": 16,
      "outputs": [
        {
          "output_type": "stream",
          "name": "stdout",
          "text": [
            "\u001b[1m1/1\u001b[0m \u001b[32m━━━━━━━━━━━━━━━━━━━━\u001b[0m\u001b[37m\u001b[0m \u001b[1m0s\u001b[0m 226ms/step\n",
            "Predicted: [('n03630383', 'lab_coat', np.float32(0.3538412)), ('n03594734', 'jean', np.float32(0.13325934)), ('n04356056', 'sunglasses', np.float32(0.1074019))]\n"
          ]
        }
      ]
    },
    {
      "cell_type": "code",
      "source": [],
      "metadata": {
        "id": "O_yGXUfFKLux"
      },
      "execution_count": null,
      "outputs": []
    }
  ]
}