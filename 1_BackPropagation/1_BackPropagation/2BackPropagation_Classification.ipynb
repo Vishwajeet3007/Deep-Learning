{
  "nbformat": 4,
  "nbformat_minor": 0,
  "metadata": {
    "colab": {
      "provenance": []
    },
    "kernelspec": {
      "name": "python3",
      "display_name": "Python 3"
    },
    "language_info": {
      "name": "python"
    }
  },
  "cells": [
    {
      "cell_type": "code",
      "execution_count": 2,
      "metadata": {
        "id": "nTIrdb7yZQGm"
      },
      "outputs": [],
      "source": [
        "import numpy as np\n",
        "import pandas as pd"
      ]
    },
    {
      "cell_type": "code",
      "source": [
        "df = pd.DataFrame([[8,8,1],[7,9,1],[6,10,0],[5,5,0]],columns = ['cgpa','profile_score','placed'])"
      ],
      "metadata": {
        "id": "KG6GQupRZbXf"
      },
      "execution_count": 3,
      "outputs": []
    },
    {
      "cell_type": "code",
      "source": [
        "df.head()"
      ],
      "metadata": {
        "colab": {
          "base_uri": "https://localhost:8080/",
          "height": 175
        },
        "id": "oEhrLfnZZscz",
        "outputId": "97343868-5054-420a-ccc8-188bda6c3999"
      },
      "execution_count": 4,
      "outputs": [
        {
          "output_type": "execute_result",
          "data": {
            "text/plain": [
              "   cgpa  profile_score  placed\n",
              "0     8              8       1\n",
              "1     7              9       1\n",
              "2     6             10       0\n",
              "3     5              5       0"
            ],
            "text/html": [
              "\n",
              "  <div id=\"df-8c80c5ee-8874-46d1-bf49-7713abe57b99\" class=\"colab-df-container\">\n",
              "    <div>\n",
              "<style scoped>\n",
              "    .dataframe tbody tr th:only-of-type {\n",
              "        vertical-align: middle;\n",
              "    }\n",
              "\n",
              "    .dataframe tbody tr th {\n",
              "        vertical-align: top;\n",
              "    }\n",
              "\n",
              "    .dataframe thead th {\n",
              "        text-align: right;\n",
              "    }\n",
              "</style>\n",
              "<table border=\"1\" class=\"dataframe\">\n",
              "  <thead>\n",
              "    <tr style=\"text-align: right;\">\n",
              "      <th></th>\n",
              "      <th>cgpa</th>\n",
              "      <th>profile_score</th>\n",
              "      <th>placed</th>\n",
              "    </tr>\n",
              "  </thead>\n",
              "  <tbody>\n",
              "    <tr>\n",
              "      <th>0</th>\n",
              "      <td>8</td>\n",
              "      <td>8</td>\n",
              "      <td>1</td>\n",
              "    </tr>\n",
              "    <tr>\n",
              "      <th>1</th>\n",
              "      <td>7</td>\n",
              "      <td>9</td>\n",
              "      <td>1</td>\n",
              "    </tr>\n",
              "    <tr>\n",
              "      <th>2</th>\n",
              "      <td>6</td>\n",
              "      <td>10</td>\n",
              "      <td>0</td>\n",
              "    </tr>\n",
              "    <tr>\n",
              "      <th>3</th>\n",
              "      <td>5</td>\n",
              "      <td>5</td>\n",
              "      <td>0</td>\n",
              "    </tr>\n",
              "  </tbody>\n",
              "</table>\n",
              "</div>\n",
              "    <div class=\"colab-df-buttons\">\n",
              "\n",
              "  <div class=\"colab-df-container\">\n",
              "    <button class=\"colab-df-convert\" onclick=\"convertToInteractive('df-8c80c5ee-8874-46d1-bf49-7713abe57b99')\"\n",
              "            title=\"Convert this dataframe to an interactive table.\"\n",
              "            style=\"display:none;\">\n",
              "\n",
              "  <svg xmlns=\"http://www.w3.org/2000/svg\" height=\"24px\" viewBox=\"0 -960 960 960\">\n",
              "    <path d=\"M120-120v-720h720v720H120Zm60-500h600v-160H180v160Zm220 220h160v-160H400v160Zm0 220h160v-160H400v160ZM180-400h160v-160H180v160Zm440 0h160v-160H620v160ZM180-180h160v-160H180v160Zm440 0h160v-160H620v160Z\"/>\n",
              "  </svg>\n",
              "    </button>\n",
              "\n",
              "  <style>\n",
              "    .colab-df-container {\n",
              "      display:flex;\n",
              "      gap: 12px;\n",
              "    }\n",
              "\n",
              "    .colab-df-convert {\n",
              "      background-color: #E8F0FE;\n",
              "      border: none;\n",
              "      border-radius: 50%;\n",
              "      cursor: pointer;\n",
              "      display: none;\n",
              "      fill: #1967D2;\n",
              "      height: 32px;\n",
              "      padding: 0 0 0 0;\n",
              "      width: 32px;\n",
              "    }\n",
              "\n",
              "    .colab-df-convert:hover {\n",
              "      background-color: #E2EBFA;\n",
              "      box-shadow: 0px 1px 2px rgba(60, 64, 67, 0.3), 0px 1px 3px 1px rgba(60, 64, 67, 0.15);\n",
              "      fill: #174EA6;\n",
              "    }\n",
              "\n",
              "    .colab-df-buttons div {\n",
              "      margin-bottom: 4px;\n",
              "    }\n",
              "\n",
              "    [theme=dark] .colab-df-convert {\n",
              "      background-color: #3B4455;\n",
              "      fill: #D2E3FC;\n",
              "    }\n",
              "\n",
              "    [theme=dark] .colab-df-convert:hover {\n",
              "      background-color: #434B5C;\n",
              "      box-shadow: 0px 1px 3px 1px rgba(0, 0, 0, 0.15);\n",
              "      filter: drop-shadow(0px 1px 2px rgba(0, 0, 0, 0.3));\n",
              "      fill: #FFFFFF;\n",
              "    }\n",
              "  </style>\n",
              "\n",
              "    <script>\n",
              "      const buttonEl =\n",
              "        document.querySelector('#df-8c80c5ee-8874-46d1-bf49-7713abe57b99 button.colab-df-convert');\n",
              "      buttonEl.style.display =\n",
              "        google.colab.kernel.accessAllowed ? 'block' : 'none';\n",
              "\n",
              "      async function convertToInteractive(key) {\n",
              "        const element = document.querySelector('#df-8c80c5ee-8874-46d1-bf49-7713abe57b99');\n",
              "        const dataTable =\n",
              "          await google.colab.kernel.invokeFunction('convertToInteractive',\n",
              "                                                    [key], {});\n",
              "        if (!dataTable) return;\n",
              "\n",
              "        const docLinkHtml = 'Like what you see? Visit the ' +\n",
              "          '<a target=\"_blank\" href=https://colab.research.google.com/notebooks/data_table.ipynb>data table notebook</a>'\n",
              "          + ' to learn more about interactive tables.';\n",
              "        element.innerHTML = '';\n",
              "        dataTable['output_type'] = 'display_data';\n",
              "        await google.colab.output.renderOutput(dataTable, element);\n",
              "        const docLink = document.createElement('div');\n",
              "        docLink.innerHTML = docLinkHtml;\n",
              "        element.appendChild(docLink);\n",
              "      }\n",
              "    </script>\n",
              "  </div>\n",
              "\n",
              "\n",
              "<div id=\"df-d6c494fa-e1f7-49ee-836a-14c6b0f6e431\">\n",
              "  <button class=\"colab-df-quickchart\" onclick=\"quickchart('df-d6c494fa-e1f7-49ee-836a-14c6b0f6e431')\"\n",
              "            title=\"Suggest charts\"\n",
              "            style=\"display:none;\">\n",
              "\n",
              "<svg xmlns=\"http://www.w3.org/2000/svg\" height=\"24px\"viewBox=\"0 0 24 24\"\n",
              "     width=\"24px\">\n",
              "    <g>\n",
              "        <path d=\"M19 3H5c-1.1 0-2 .9-2 2v14c0 1.1.9 2 2 2h14c1.1 0 2-.9 2-2V5c0-1.1-.9-2-2-2zM9 17H7v-7h2v7zm4 0h-2V7h2v10zm4 0h-2v-4h2v4z\"/>\n",
              "    </g>\n",
              "</svg>\n",
              "  </button>\n",
              "\n",
              "<style>\n",
              "  .colab-df-quickchart {\n",
              "      --bg-color: #E8F0FE;\n",
              "      --fill-color: #1967D2;\n",
              "      --hover-bg-color: #E2EBFA;\n",
              "      --hover-fill-color: #174EA6;\n",
              "      --disabled-fill-color: #AAA;\n",
              "      --disabled-bg-color: #DDD;\n",
              "  }\n",
              "\n",
              "  [theme=dark] .colab-df-quickchart {\n",
              "      --bg-color: #3B4455;\n",
              "      --fill-color: #D2E3FC;\n",
              "      --hover-bg-color: #434B5C;\n",
              "      --hover-fill-color: #FFFFFF;\n",
              "      --disabled-bg-color: #3B4455;\n",
              "      --disabled-fill-color: #666;\n",
              "  }\n",
              "\n",
              "  .colab-df-quickchart {\n",
              "    background-color: var(--bg-color);\n",
              "    border: none;\n",
              "    border-radius: 50%;\n",
              "    cursor: pointer;\n",
              "    display: none;\n",
              "    fill: var(--fill-color);\n",
              "    height: 32px;\n",
              "    padding: 0;\n",
              "    width: 32px;\n",
              "  }\n",
              "\n",
              "  .colab-df-quickchart:hover {\n",
              "    background-color: var(--hover-bg-color);\n",
              "    box-shadow: 0 1px 2px rgba(60, 64, 67, 0.3), 0 1px 3px 1px rgba(60, 64, 67, 0.15);\n",
              "    fill: var(--button-hover-fill-color);\n",
              "  }\n",
              "\n",
              "  .colab-df-quickchart-complete:disabled,\n",
              "  .colab-df-quickchart-complete:disabled:hover {\n",
              "    background-color: var(--disabled-bg-color);\n",
              "    fill: var(--disabled-fill-color);\n",
              "    box-shadow: none;\n",
              "  }\n",
              "\n",
              "  .colab-df-spinner {\n",
              "    border: 2px solid var(--fill-color);\n",
              "    border-color: transparent;\n",
              "    border-bottom-color: var(--fill-color);\n",
              "    animation:\n",
              "      spin 1s steps(1) infinite;\n",
              "  }\n",
              "\n",
              "  @keyframes spin {\n",
              "    0% {\n",
              "      border-color: transparent;\n",
              "      border-bottom-color: var(--fill-color);\n",
              "      border-left-color: var(--fill-color);\n",
              "    }\n",
              "    20% {\n",
              "      border-color: transparent;\n",
              "      border-left-color: var(--fill-color);\n",
              "      border-top-color: var(--fill-color);\n",
              "    }\n",
              "    30% {\n",
              "      border-color: transparent;\n",
              "      border-left-color: var(--fill-color);\n",
              "      border-top-color: var(--fill-color);\n",
              "      border-right-color: var(--fill-color);\n",
              "    }\n",
              "    40% {\n",
              "      border-color: transparent;\n",
              "      border-right-color: var(--fill-color);\n",
              "      border-top-color: var(--fill-color);\n",
              "    }\n",
              "    60% {\n",
              "      border-color: transparent;\n",
              "      border-right-color: var(--fill-color);\n",
              "    }\n",
              "    80% {\n",
              "      border-color: transparent;\n",
              "      border-right-color: var(--fill-color);\n",
              "      border-bottom-color: var(--fill-color);\n",
              "    }\n",
              "    90% {\n",
              "      border-color: transparent;\n",
              "      border-bottom-color: var(--fill-color);\n",
              "    }\n",
              "  }\n",
              "</style>\n",
              "\n",
              "  <script>\n",
              "    async function quickchart(key) {\n",
              "      const quickchartButtonEl =\n",
              "        document.querySelector('#' + key + ' button');\n",
              "      quickchartButtonEl.disabled = true;  // To prevent multiple clicks.\n",
              "      quickchartButtonEl.classList.add('colab-df-spinner');\n",
              "      try {\n",
              "        const charts = await google.colab.kernel.invokeFunction(\n",
              "            'suggestCharts', [key], {});\n",
              "      } catch (error) {\n",
              "        console.error('Error during call to suggestCharts:', error);\n",
              "      }\n",
              "      quickchartButtonEl.classList.remove('colab-df-spinner');\n",
              "      quickchartButtonEl.classList.add('colab-df-quickchart-complete');\n",
              "    }\n",
              "    (() => {\n",
              "      let quickchartButtonEl =\n",
              "        document.querySelector('#df-d6c494fa-e1f7-49ee-836a-14c6b0f6e431 button');\n",
              "      quickchartButtonEl.style.display =\n",
              "        google.colab.kernel.accessAllowed ? 'block' : 'none';\n",
              "    })();\n",
              "  </script>\n",
              "</div>\n",
              "\n",
              "    </div>\n",
              "  </div>\n"
            ],
            "application/vnd.google.colaboratory.intrinsic+json": {
              "type": "dataframe",
              "variable_name": "df",
              "summary": "{\n  \"name\": \"df\",\n  \"rows\": 4,\n  \"fields\": [\n    {\n      \"column\": \"cgpa\",\n      \"properties\": {\n        \"dtype\": \"number\",\n        \"std\": 1,\n        \"min\": 5,\n        \"max\": 8,\n        \"num_unique_values\": 4,\n        \"samples\": [\n          7,\n          5,\n          8\n        ],\n        \"semantic_type\": \"\",\n        \"description\": \"\"\n      }\n    },\n    {\n      \"column\": \"profile_score\",\n      \"properties\": {\n        \"dtype\": \"number\",\n        \"std\": 2,\n        \"min\": 5,\n        \"max\": 10,\n        \"num_unique_values\": 4,\n        \"samples\": [\n          9,\n          5,\n          8\n        ],\n        \"semantic_type\": \"\",\n        \"description\": \"\"\n      }\n    },\n    {\n      \"column\": \"placed\",\n      \"properties\": {\n        \"dtype\": \"number\",\n        \"std\": 0,\n        \"min\": 0,\n        \"max\": 1,\n        \"num_unique_values\": 2,\n        \"samples\": [\n          0,\n          1\n        ],\n        \"semantic_type\": \"\",\n        \"description\": \"\"\n      }\n    }\n  ]\n}"
            }
          },
          "metadata": {},
          "execution_count": 4
        }
      ]
    },
    {
      "cell_type": "code",
      "source": [
        "def initialize_parameters(layer_dims):\n",
        "  np.random.seed(3)\n",
        "  parameters = {}\n",
        "  L = len(layer_dims)\n",
        "  for l in range(1,L):\n",
        "    parameters['W'+str(l)] = np.ones((layer_dims[l-1],layer_dims[l])) * 0.1\n",
        "    parameters['b' + str(l)] = np.zeros((layer_dims[l],1))\n",
        "  return parameters"
      ],
      "metadata": {
        "id": "Gb3Ho5BmZt7U"
      },
      "execution_count": 5,
      "outputs": []
    },
    {
      "cell_type": "code",
      "source": [
        "# Utilizing Functions\n",
        "def sigmoid(Z):\n",
        "  A = 1 / (1 + np.exp(-Z))\n",
        "  return A"
      ],
      "metadata": {
        "id": "Q6V3Zm2aaVG0"
      },
      "execution_count": 6,
      "outputs": []
    },
    {
      "cell_type": "code",
      "source": [
        "def linear_forward(A_prev,W,b):\n",
        "  Z = np.dot(W.T , A_prev) + b\n",
        "  A = sigmoid(Z)\n",
        "  return A"
      ],
      "metadata": {
        "id": "QEh2N3ulagTO"
      },
      "execution_count": 7,
      "outputs": []
    },
    {
      "cell_type": "code",
      "source": [
        "# L-Layer feed forward\n",
        "def l_layer_forward(X,parameters):\n",
        "  A = X\n",
        "  L = len(parameters) // 2\n",
        "  for l in range(1,L+1):\n",
        "    A_prev = A\n",
        "    Wl = parameters['W'+str(l)]\n",
        "    bl = parameters['b'+str(l)] # Changed this line to use square brackets to access dictionary value\n",
        "    #print(\"A\"+str(l-1)+\": \", A_prev)\n",
        "    #print(\"W\"+str(l)+\": \", Wl)\n",
        "    #print(\"b\"+str(l)+\": \", bl)\n",
        "    #print(\"--\"*20)\n",
        "    A = linear_forward(A_prev,Wl,bl)\n",
        "    #print(\"A\"+str(l)+\": \", A)\n",
        "    #print(\"**\"*20)\n",
        "    return A,A_prev"
      ],
      "metadata": {
        "id": "HDlCChOjasFg"
      },
      "execution_count": 8,
      "outputs": []
    },
    {
      "cell_type": "code",
      "source": [
        "def update_parameters(parameters,y,y_hat,A1,X):\n",
        "  parameters['W2'][0][0] = parameters['W2'][0][0] + (0.0001 * (y - y_hat) * A1[0][0])\n",
        "  parameters['W2'][1][0] = parameters['W2'][1][0] + (0.0001 * (y - y_hat)*A1[1][0])\n",
        "  parameters['b2'][0][0] = parameters['W2'][1][0] + (0.0001 * (y - y_hat))\n",
        "\n",
        "  parameters['W1'][0][0] = parameters['W1'][0][0] + (0.0001 * (y - y_hat)*parameters['W2'][0][0]*A1[0][0]*(1-A1[0][0])*X[0][0])\n",
        "  parameters['W1'][0][1] = parameters['W1'][0][1] + (0.0001 * (y - y_hat)*parameters['W2'][0][0]*A1[0][0]*(1-A1[0][0])*X[1][0])\n",
        "  parameters['b1'][0][0] = parameters['b1'][0][0] + (0.0001 * (y - y_hat)*parameters['W2'][0][0]*A1[0][0]*(1-A1[0][0]))\n",
        "\n",
        "  parameters['W1'][1][0] = parameters['W1'][1][0] + (0.0001 * (y - y_hat)*parameters['W2'][1][0]*A1[1][0]*(1-A1[1][0])*X[0][0])\n",
        "  parameters['W1'][1][1] = parameters['W1'][1][1] + (0.0001 * (y - y_hat)*parameters['W2'][1][0]*A1[1][0]*(1-A1[1][0])*X[1][0])\n",
        "  parameters['b1'][1][0] = parameters['b1'][1][0] + (0.0001 * (y - y_hat)*parameters['W2'][1][0]*A1[1][0]*(1-A1[1][0]))\n"
      ],
      "metadata": {
        "id": "HuV4K4Eia7iS"
      },
      "execution_count": 9,
      "outputs": []
    },
    {
      "cell_type": "code",
      "source": [
        "X = df[['cgpa','profile_score']].values[0].reshape(2,1)\n",
        "y = df[['placed']].values[0][0]\n",
        "\n",
        "# Parameter Initialization\n",
        "parameters = initialize_parameters([2,2,1])\n",
        "y_hat,A1 = l_layer_forward(X,parameters)\n",
        "y_hat = y_hat[0][0]\n",
        "update_parameters(parameters,y,y_hat,A1,X)\n",
        "print('Loss for this student - ',-y*np.log(y_hat) - (1-y) * np.log(1-y_hat))\n",
        "parameters"
      ],
      "metadata": {
        "colab": {
          "base_uri": "https://localhost:8080/"
        },
        "id": "p8i7X3PUb3uj",
        "outputId": "4e9431e5-7de9-47ad-be86-1349b51897eb"
      },
      "execution_count": 10,
      "outputs": [
        {
          "output_type": "stream",
          "name": "stdout",
          "text": [
            "Loss for this student -  0.18390074088833885\n"
          ]
        },
        {
          "output_type": "execute_result",
          "data": {
            "text/plain": [
              "{'W1': array([[0.09924643, 0.09924643],\n",
              "        [0.09924643, 0.09924643]]),\n",
              " 'b1': array([[-9.41961202e-05],\n",
              "        [-9.41961202e-05]]),\n",
              " 'W2': array([[0.10013439],\n",
              "        [0.10013439]]),\n",
              " 'b2': array([[0.10015118]])}"
            ]
          },
          "metadata": {},
          "execution_count": 10
        }
      ]
    },
    {
      "cell_type": "code",
      "source": [
        "X = df[['cgpa','profile_score']].values[1].reshape(2,1)\n",
        "y = df[['placed']].values[1][0]\n",
        "\n",
        "y_hat,A1 = l_layer_forward(X,parameters)\n",
        "y_hat = y_hat[0][0]\n",
        "update_parameters(parameters,y,y_hat,A1,X)\n",
        "print('Loss for this student - ',-y*np.log(y_hat) - (1-y)*np.log(1-y_hat))\n",
        "parameters"
      ],
      "metadata": {
        "id": "0m8Gte6dcrqr",
        "colab": {
          "base_uri": "https://localhost:8080/"
        },
        "outputId": "f599878e-1feb-4d1b-d6d5-9d741e1e5e50"
      },
      "execution_count": 19,
      "outputs": [
        {
          "output_type": "stream",
          "name": "stdout",
          "text": [
            "Loss for this student -  0.1898416255128294\n"
          ]
        },
        {
          "output_type": "execute_result",
          "data": {
            "text/plain": [
              "{'W1': array([[0.09772997, 0.09729669],\n",
              "        [0.09664501, 0.09590174]]),\n",
              " 'b1': array([[-0.00031083],\n",
              "        [-0.00046583]]),\n",
              " 'W2': array([[0.1004941 ],\n",
              "        [0.10059688]]),\n",
              " 'b2': array([[0.10061417]])}"
            ]
          },
          "metadata": {},
          "execution_count": 19
        }
      ]
    },
    {
      "cell_type": "code",
      "source": [
        "X = df[['cgpa','profile_score']].values[2].reshape(2,1)\n",
        "y = df[['placed']].values[2][0]\n",
        "y_hat,A1 = l_layer_forward(X,parameters)\n",
        "y_hat = y_hat[0][0]\n",
        "update_parameters(parameters,y,y_hat,A1,X)\n",
        "print('Loss for this student ',-y/np.log(y_hat) - (1-y)*np.log(1-y_hat))\n",
        "parameters"
      ],
      "metadata": {
        "colab": {
          "base_uri": "https://localhost:8080/"
        },
        "id": "XFna-Et12AWf",
        "outputId": "f1442f6a-5604-453e-aad8-4ef80183cfbf"
      },
      "execution_count": 21,
      "outputs": [
        {
          "output_type": "stream",
          "name": "stdout",
          "text": [
            "Loss for this student  1.7890142395557087\n"
          ]
        },
        {
          "output_type": "execute_result",
          "data": {
            "text/plain": [
              "{'W1': array([[0.10070712, 0.10225861],\n",
              "        [0.10554112, 0.1107286 ]]),\n",
              " 'b1': array([[0.00018536],\n",
              "        [0.00101686]]),\n",
              " 'W2': array([[0.09949921],\n",
              "        [0.09893873]]),\n",
              " 'b2': array([[0.09885544]])}"
            ]
          },
          "metadata": {},
          "execution_count": 21
        }
      ]
    },
    {
      "cell_type": "code",
      "source": [
        "X = df[['cgpa', 'profile_score']].values[3].reshape(2,1) # Shape(no of features, no. of training example)\n",
        "y = df[['placed']].values[3][0]\n",
        "\n",
        "y_hat,A1 = l_layer_forward(X,parameters)\n",
        "y_hat = y_hat[0][0]\n",
        "\n",
        "update_parameters(parameters,y,y_hat,A1,X)\n",
        "\n",
        "print('Loss for this student - ',-y*np.log(y_hat) - (1-y)*np.log(1-y_hat))\n",
        "\n",
        "parameters"
      ],
      "metadata": {
        "colab": {
          "base_uri": "https://localhost:8080/"
        },
        "id": "So5sxsCo4BgE",
        "outputId": "42ba3a42-e26c-41ba-d99d-6e522c1643e5"
      },
      "execution_count": 23,
      "outputs": [
        {
          "output_type": "stream",
          "name": "stdout",
          "text": [
            "Loss for this student -  1.3363329679863465\n"
          ]
        },
        {
          "output_type": "execute_result",
          "data": {
            "text/plain": [
              "{'W1': array([[0.1014379 , 0.1029894 ],\n",
              "        [0.10626777, 0.11145525]]),\n",
              " 'b1': array([[0.00033151],\n",
              "        [0.00116219]]),\n",
              " 'W2': array([[0.09913061],\n",
              "        [0.09857013]]),\n",
              " 'b2': array([[0.09849641]])}"
            ]
          },
          "metadata": {},
          "execution_count": 23
        }
      ]
    },
    {
      "cell_type": "code",
      "source": [
        "# epochs implementation\n",
        "parameters  = initialize_parameters([2,2,1])\n",
        "epochs = 50\n",
        "for i in range(epochs):\n",
        "  Loss = []\n",
        "  for j in range(df.shape[0]):\n",
        "    X = df[['cgpa','profile_score']].values[j].reshape(2,1)\n",
        "    y = df[['placed']].values[j][0]\n",
        "\n",
        "    y_hat,A1 = l_layer_forward(X,parameters)\n",
        "    y_hat = y_hat[0][0]\n",
        "\n",
        "    update_parameters(parameters,y,y_hat,A1,X)\n",
        "    Loss.append(-y*np.log(y_hat) - (1-y)*np.log(1-y_hat))\n",
        "  print('Epoch -',i+1,'Loss - ',np.array(Loss).mean())\n",
        "parameters"
      ],
      "metadata": {
        "colab": {
          "base_uri": "https://localhost:8080/"
        },
        "id": "bjHWi86U4F2f",
        "outputId": "235439c4-b3f5-4909-bf1e-abe30d5dad50"
      },
      "execution_count": 27,
      "outputs": [
        {
          "output_type": "stream",
          "name": "stdout",
          "text": [
            "Epoch - 1 Loss -  0.8646428202742154\n",
            "Epoch - 2 Loss -  0.8746513458247017\n",
            "Epoch - 3 Loss -  0.8850443848066283\n",
            "Epoch - 4 Loss -  0.8958196342743981\n",
            "Epoch - 5 Loss -  0.9069731787321527\n",
            "Epoch - 6 Loss -  0.9184994819584031\n",
            "Epoch - 7 Loss -  0.9303913977222085\n",
            "Epoch - 8 Loss -  0.9426401992114182\n",
            "Epoch - 9 Loss -  0.9552356265292828\n",
            "Epoch - 10 Loss -  0.9681659511795108\n",
            "Epoch - 11 Loss -  0.9814180560693464\n",
            "Epoch - 12 Loss -  0.99497752923027\n",
            "Epoch - 13 Loss -  1.0088287691974736\n",
            "Epoch - 14 Loss -  1.0229550998091717\n",
            "Epoch - 15 Loss -  1.0373388920874356\n",
            "Epoch - 16 Loss -  1.0519616908417908\n",
            "Epoch - 17 Loss -  1.0668043436898067\n",
            "Epoch - 18 Loss -  1.0818471303067052\n",
            "Epoch - 19 Loss -  1.09706988988792\n",
            "Epoch - 20 Loss -  1.1124521450224016\n",
            "Epoch - 21 Loss -  1.1279732204177004\n",
            "Epoch - 22 Loss -  1.1436123551782453\n",
            "Epoch - 23 Loss -  1.15934880760423\n",
            "Epoch - 24 Loss -  1.1751619517402847\n",
            "Epoch - 25 Loss -  1.1910313651521651\n",
            "Epoch - 26 Loss -  1.2069369076396461\n",
            "Epoch - 27 Loss -  1.2228587907998916\n",
            "Epoch - 28 Loss -  1.2387776385349891\n",
            "Epoch - 29 Loss -  1.2546745387485814\n",
            "Epoch - 30 Loss -  1.2705310865996322\n",
            "Epoch - 31 Loss -  1.2863294197773494\n",
            "Epoch - 32 Loss -  1.302052246331911\n",
            "Epoch - 33 Loss -  1.3176828656433994\n",
            "Epoch - 34 Loss -  1.3332051831388239\n",
            "Epoch - 35 Loss -  1.3486037193773486\n",
            "Epoch - 36 Loss -  1.3638636141196212\n",
            "Epoch - 37 Loss -  1.3789706259811716\n",
            "Epoch - 38 Loss -  1.3939111282449708\n",
            "Epoch - 39 Loss -  1.408672101376467\n",
            "Epoch - 40 Loss -  1.423241122748045\n",
            "Epoch - 41 Loss -  1.4376063540405695\n",
            "Epoch - 42 Loss -  1.451756526748746\n",
            "Epoch - 43 Loss -  1.4656809261761228\n",
            "Epoch - 44 Loss -  1.4793693742650054\n",
            "Epoch - 45 Loss -  1.4928122115677458\n",
            "Epoch - 46 Loss -  1.5060002786287152\n",
            "Epoch - 47 Loss -  1.5189248970116607\n",
            "Epoch - 48 Loss -  1.5315778501749722\n",
            "Epoch - 49 Loss -  1.5439513643679126\n",
            "Epoch - 50 Loss -  1.5560380896941655\n"
          ]
        },
        {
          "output_type": "execute_result",
          "data": {
            "text/plain": [
              "{'W1': array([[0.17438219, 0.21587603],\n",
              "        [0.2761562 , 0.38959926]]),\n",
              " 'b1': array([[0.01436096],\n",
              "        [0.03129751]]),\n",
              " 'W2': array([[0.05711488],\n",
              "        [0.03933416]]),\n",
              " 'b2': array([[0.03924358]])}"
            ]
          },
          "metadata": {},
          "execution_count": 27
        }
      ]
    },
    {
      "cell_type": "code",
      "source": [],
      "metadata": {
        "id": "w9h76l705G2R"
      },
      "execution_count": null,
      "outputs": []
    }
  ]
}