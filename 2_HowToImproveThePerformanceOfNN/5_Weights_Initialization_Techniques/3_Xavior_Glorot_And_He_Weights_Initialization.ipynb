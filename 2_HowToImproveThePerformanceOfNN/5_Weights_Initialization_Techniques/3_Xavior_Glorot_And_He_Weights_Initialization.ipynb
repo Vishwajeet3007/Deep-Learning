{
  "nbformat": 4,
  "nbformat_minor": 0,
  "metadata": {
    "colab": {
      "provenance": []
    },
    "kernelspec": {
      "name": "python3",
      "display_name": "Python 3"
    },
    "language_info": {
      "name": "python"
    }
  },
  "cells": [
    {
      "cell_type": "code",
      "execution_count": 6,
      "metadata": {
        "id": "6WXGEcyZrglr"
      },
      "outputs": [],
      "source": [
        "import numpy as np\n",
        "import pandas as pd\n",
        "import matplotlib.pyplot as plt\n",
        "import tensorflow\n",
        "from tensorflow import keras\n",
        "from keras import Sequential\n",
        "from keras.layers import Dense"
      ]
    },
    {
      "cell_type": "code",
      "source": [
        "df = pd.read_csv('/content/ushape.csv')"
      ],
      "metadata": {
        "id": "WncgqpzmsEa8"
      },
      "execution_count": 7,
      "outputs": []
    },
    {
      "cell_type": "code",
      "source": [
        "df.head()"
      ],
      "metadata": {
        "colab": {
          "base_uri": "https://localhost:8080/",
          "height": 223
        },
        "id": "hadRFyKOsQrI",
        "outputId": "fa331384-6531-4272-9bdc-c3843af43325"
      },
      "execution_count": 8,
      "outputs": [
        {
          "output_type": "execute_result",
          "data": {
            "text/plain": [
              "   3.159499363321345566e-02  9.869877579082642072e-01  \\\n",
              "0                  2.115098                 -0.046244   \n",
              "1                  0.882490                 -0.075756   \n",
              "2                 -0.055144                 -0.037332   \n",
              "3                  0.829545                 -0.539321   \n",
              "4                  2.112857                  0.662084   \n",
              "\n",
              "   0.000000000000000000e+00  \n",
              "0                       1.0  \n",
              "1                       0.0  \n",
              "2                       1.0  \n",
              "3                       1.0  \n",
              "4                       1.0  "
            ],
            "text/html": [
              "\n",
              "  <div id=\"df-f445cad3-2a8c-4690-a1cf-331b79d160f8\" class=\"colab-df-container\">\n",
              "    <div>\n",
              "<style scoped>\n",
              "    .dataframe tbody tr th:only-of-type {\n",
              "        vertical-align: middle;\n",
              "    }\n",
              "\n",
              "    .dataframe tbody tr th {\n",
              "        vertical-align: top;\n",
              "    }\n",
              "\n",
              "    .dataframe thead th {\n",
              "        text-align: right;\n",
              "    }\n",
              "</style>\n",
              "<table border=\"1\" class=\"dataframe\">\n",
              "  <thead>\n",
              "    <tr style=\"text-align: right;\">\n",
              "      <th></th>\n",
              "      <th>3.159499363321345566e-02</th>\n",
              "      <th>9.869877579082642072e-01</th>\n",
              "      <th>0.000000000000000000e+00</th>\n",
              "    </tr>\n",
              "  </thead>\n",
              "  <tbody>\n",
              "    <tr>\n",
              "      <th>0</th>\n",
              "      <td>2.115098</td>\n",
              "      <td>-0.046244</td>\n",
              "      <td>1.0</td>\n",
              "    </tr>\n",
              "    <tr>\n",
              "      <th>1</th>\n",
              "      <td>0.882490</td>\n",
              "      <td>-0.075756</td>\n",
              "      <td>0.0</td>\n",
              "    </tr>\n",
              "    <tr>\n",
              "      <th>2</th>\n",
              "      <td>-0.055144</td>\n",
              "      <td>-0.037332</td>\n",
              "      <td>1.0</td>\n",
              "    </tr>\n",
              "    <tr>\n",
              "      <th>3</th>\n",
              "      <td>0.829545</td>\n",
              "      <td>-0.539321</td>\n",
              "      <td>1.0</td>\n",
              "    </tr>\n",
              "    <tr>\n",
              "      <th>4</th>\n",
              "      <td>2.112857</td>\n",
              "      <td>0.662084</td>\n",
              "      <td>1.0</td>\n",
              "    </tr>\n",
              "  </tbody>\n",
              "</table>\n",
              "</div>\n",
              "    <div class=\"colab-df-buttons\">\n",
              "\n",
              "  <div class=\"colab-df-container\">\n",
              "    <button class=\"colab-df-convert\" onclick=\"convertToInteractive('df-f445cad3-2a8c-4690-a1cf-331b79d160f8')\"\n",
              "            title=\"Convert this dataframe to an interactive table.\"\n",
              "            style=\"display:none;\">\n",
              "\n",
              "  <svg xmlns=\"http://www.w3.org/2000/svg\" height=\"24px\" viewBox=\"0 -960 960 960\">\n",
              "    <path d=\"M120-120v-720h720v720H120Zm60-500h600v-160H180v160Zm220 220h160v-160H400v160Zm0 220h160v-160H400v160ZM180-400h160v-160H180v160Zm440 0h160v-160H620v160ZM180-180h160v-160H180v160Zm440 0h160v-160H620v160Z\"/>\n",
              "  </svg>\n",
              "    </button>\n",
              "\n",
              "  <style>\n",
              "    .colab-df-container {\n",
              "      display:flex;\n",
              "      gap: 12px;\n",
              "    }\n",
              "\n",
              "    .colab-df-convert {\n",
              "      background-color: #E8F0FE;\n",
              "      border: none;\n",
              "      border-radius: 50%;\n",
              "      cursor: pointer;\n",
              "      display: none;\n",
              "      fill: #1967D2;\n",
              "      height: 32px;\n",
              "      padding: 0 0 0 0;\n",
              "      width: 32px;\n",
              "    }\n",
              "\n",
              "    .colab-df-convert:hover {\n",
              "      background-color: #E2EBFA;\n",
              "      box-shadow: 0px 1px 2px rgba(60, 64, 67, 0.3), 0px 1px 3px 1px rgba(60, 64, 67, 0.15);\n",
              "      fill: #174EA6;\n",
              "    }\n",
              "\n",
              "    .colab-df-buttons div {\n",
              "      margin-bottom: 4px;\n",
              "    }\n",
              "\n",
              "    [theme=dark] .colab-df-convert {\n",
              "      background-color: #3B4455;\n",
              "      fill: #D2E3FC;\n",
              "    }\n",
              "\n",
              "    [theme=dark] .colab-df-convert:hover {\n",
              "      background-color: #434B5C;\n",
              "      box-shadow: 0px 1px 3px 1px rgba(0, 0, 0, 0.15);\n",
              "      filter: drop-shadow(0px 1px 2px rgba(0, 0, 0, 0.3));\n",
              "      fill: #FFFFFF;\n",
              "    }\n",
              "  </style>\n",
              "\n",
              "    <script>\n",
              "      const buttonEl =\n",
              "        document.querySelector('#df-f445cad3-2a8c-4690-a1cf-331b79d160f8 button.colab-df-convert');\n",
              "      buttonEl.style.display =\n",
              "        google.colab.kernel.accessAllowed ? 'block' : 'none';\n",
              "\n",
              "      async function convertToInteractive(key) {\n",
              "        const element = document.querySelector('#df-f445cad3-2a8c-4690-a1cf-331b79d160f8');\n",
              "        const dataTable =\n",
              "          await google.colab.kernel.invokeFunction('convertToInteractive',\n",
              "                                                    [key], {});\n",
              "        if (!dataTable) return;\n",
              "\n",
              "        const docLinkHtml = 'Like what you see? Visit the ' +\n",
              "          '<a target=\"_blank\" href=https://colab.research.google.com/notebooks/data_table.ipynb>data table notebook</a>'\n",
              "          + ' to learn more about interactive tables.';\n",
              "        element.innerHTML = '';\n",
              "        dataTable['output_type'] = 'display_data';\n",
              "        await google.colab.output.renderOutput(dataTable, element);\n",
              "        const docLink = document.createElement('div');\n",
              "        docLink.innerHTML = docLinkHtml;\n",
              "        element.appendChild(docLink);\n",
              "      }\n",
              "    </script>\n",
              "  </div>\n",
              "\n",
              "\n",
              "    <div id=\"df-c7753e0d-b427-486c-9c67-d6675a29424a\">\n",
              "      <button class=\"colab-df-quickchart\" onclick=\"quickchart('df-c7753e0d-b427-486c-9c67-d6675a29424a')\"\n",
              "                title=\"Suggest charts\"\n",
              "                style=\"display:none;\">\n",
              "\n",
              "<svg xmlns=\"http://www.w3.org/2000/svg\" height=\"24px\"viewBox=\"0 0 24 24\"\n",
              "     width=\"24px\">\n",
              "    <g>\n",
              "        <path d=\"M19 3H5c-1.1 0-2 .9-2 2v14c0 1.1.9 2 2 2h14c1.1 0 2-.9 2-2V5c0-1.1-.9-2-2-2zM9 17H7v-7h2v7zm4 0h-2V7h2v10zm4 0h-2v-4h2v4z\"/>\n",
              "    </g>\n",
              "</svg>\n",
              "      </button>\n",
              "\n",
              "<style>\n",
              "  .colab-df-quickchart {\n",
              "      --bg-color: #E8F0FE;\n",
              "      --fill-color: #1967D2;\n",
              "      --hover-bg-color: #E2EBFA;\n",
              "      --hover-fill-color: #174EA6;\n",
              "      --disabled-fill-color: #AAA;\n",
              "      --disabled-bg-color: #DDD;\n",
              "  }\n",
              "\n",
              "  [theme=dark] .colab-df-quickchart {\n",
              "      --bg-color: #3B4455;\n",
              "      --fill-color: #D2E3FC;\n",
              "      --hover-bg-color: #434B5C;\n",
              "      --hover-fill-color: #FFFFFF;\n",
              "      --disabled-bg-color: #3B4455;\n",
              "      --disabled-fill-color: #666;\n",
              "  }\n",
              "\n",
              "  .colab-df-quickchart {\n",
              "    background-color: var(--bg-color);\n",
              "    border: none;\n",
              "    border-radius: 50%;\n",
              "    cursor: pointer;\n",
              "    display: none;\n",
              "    fill: var(--fill-color);\n",
              "    height: 32px;\n",
              "    padding: 0;\n",
              "    width: 32px;\n",
              "  }\n",
              "\n",
              "  .colab-df-quickchart:hover {\n",
              "    background-color: var(--hover-bg-color);\n",
              "    box-shadow: 0 1px 2px rgba(60, 64, 67, 0.3), 0 1px 3px 1px rgba(60, 64, 67, 0.15);\n",
              "    fill: var(--button-hover-fill-color);\n",
              "  }\n",
              "\n",
              "  .colab-df-quickchart-complete:disabled,\n",
              "  .colab-df-quickchart-complete:disabled:hover {\n",
              "    background-color: var(--disabled-bg-color);\n",
              "    fill: var(--disabled-fill-color);\n",
              "    box-shadow: none;\n",
              "  }\n",
              "\n",
              "  .colab-df-spinner {\n",
              "    border: 2px solid var(--fill-color);\n",
              "    border-color: transparent;\n",
              "    border-bottom-color: var(--fill-color);\n",
              "    animation:\n",
              "      spin 1s steps(1) infinite;\n",
              "  }\n",
              "\n",
              "  @keyframes spin {\n",
              "    0% {\n",
              "      border-color: transparent;\n",
              "      border-bottom-color: var(--fill-color);\n",
              "      border-left-color: var(--fill-color);\n",
              "    }\n",
              "    20% {\n",
              "      border-color: transparent;\n",
              "      border-left-color: var(--fill-color);\n",
              "      border-top-color: var(--fill-color);\n",
              "    }\n",
              "    30% {\n",
              "      border-color: transparent;\n",
              "      border-left-color: var(--fill-color);\n",
              "      border-top-color: var(--fill-color);\n",
              "      border-right-color: var(--fill-color);\n",
              "    }\n",
              "    40% {\n",
              "      border-color: transparent;\n",
              "      border-right-color: var(--fill-color);\n",
              "      border-top-color: var(--fill-color);\n",
              "    }\n",
              "    60% {\n",
              "      border-color: transparent;\n",
              "      border-right-color: var(--fill-color);\n",
              "    }\n",
              "    80% {\n",
              "      border-color: transparent;\n",
              "      border-right-color: var(--fill-color);\n",
              "      border-bottom-color: var(--fill-color);\n",
              "    }\n",
              "    90% {\n",
              "      border-color: transparent;\n",
              "      border-bottom-color: var(--fill-color);\n",
              "    }\n",
              "  }\n",
              "</style>\n",
              "\n",
              "      <script>\n",
              "        async function quickchart(key) {\n",
              "          const quickchartButtonEl =\n",
              "            document.querySelector('#' + key + ' button');\n",
              "          quickchartButtonEl.disabled = true;  // To prevent multiple clicks.\n",
              "          quickchartButtonEl.classList.add('colab-df-spinner');\n",
              "          try {\n",
              "            const charts = await google.colab.kernel.invokeFunction(\n",
              "                'suggestCharts', [key], {});\n",
              "          } catch (error) {\n",
              "            console.error('Error during call to suggestCharts:', error);\n",
              "          }\n",
              "          quickchartButtonEl.classList.remove('colab-df-spinner');\n",
              "          quickchartButtonEl.classList.add('colab-df-quickchart-complete');\n",
              "        }\n",
              "        (() => {\n",
              "          let quickchartButtonEl =\n",
              "            document.querySelector('#df-c7753e0d-b427-486c-9c67-d6675a29424a button');\n",
              "          quickchartButtonEl.style.display =\n",
              "            google.colab.kernel.accessAllowed ? 'block' : 'none';\n",
              "        })();\n",
              "      </script>\n",
              "    </div>\n",
              "\n",
              "    </div>\n",
              "  </div>\n"
            ],
            "application/vnd.google.colaboratory.intrinsic+json": {
              "type": "dataframe",
              "variable_name": "df",
              "summary": "{\n  \"name\": \"df\",\n  \"rows\": 99,\n  \"fields\": [\n    {\n      \"column\": \"3.159499363321345566e-02\",\n      \"properties\": {\n        \"dtype\": \"number\",\n        \"std\": 0.8943130566096507,\n        \"min\": -1.318500344394381,\n        \"max\": 2.181371683049025,\n        \"num_unique_values\": 99,\n        \"samples\": [\n          0.1273314190904385,\n          0.6417403675063451,\n          0.21862323352500593\n        ],\n        \"semantic_type\": \"\",\n        \"description\": \"\"\n      }\n    },\n    {\n      \"column\": \"9.869877579082642072e-01\",\n      \"properties\": {\n        \"dtype\": \"number\",\n        \"std\": 0.5909086142970595,\n        \"min\": -1.0357020680498332,\n        \"max\": 1.5718993127141032,\n        \"num_unique_values\": 99,\n        \"samples\": [\n          -0.3796548967118949,\n          -0.39369468370639576,\n          -0.6525211867631453\n        ],\n        \"semantic_type\": \"\",\n        \"description\": \"\"\n      }\n    },\n    {\n      \"column\": \"0.000000000000000000e+00\",\n      \"properties\": {\n        \"dtype\": \"number\",\n        \"std\": 0.5025189076296059,\n        \"min\": 0.0,\n        \"max\": 1.0,\n        \"num_unique_values\": 2,\n        \"samples\": [\n          0.0,\n          1.0\n        ],\n        \"semantic_type\": \"\",\n        \"description\": \"\"\n      }\n    }\n  ]\n}"
            }
          },
          "metadata": {},
          "execution_count": 8
        }
      ]
    },
    {
      "cell_type": "code",
      "source": [
        "plt.scatter(df['3.159499363321345566e-02'],df['9.869877579082642072e-01'],c=df['0.000000000000000000e+00'])"
      ],
      "metadata": {
        "colab": {
          "base_uri": "https://localhost:8080/",
          "height": 447
        },
        "id": "rQ3P8xi_sTHU",
        "outputId": "eef531bd-bd33-4ac2-efb9-a18fa055fade"
      },
      "execution_count": 9,
      "outputs": [
        {
          "output_type": "execute_result",
          "data": {
            "text/plain": [
              "<matplotlib.collections.PathCollection at 0x7f0bbc1f4c90>"
            ]
          },
          "metadata": {},
          "execution_count": 9
        },
        {
          "output_type": "display_data",
          "data": {
            "text/plain": [
              "<Figure size 640x480 with 1 Axes>"
            ],
            "image/png": "[encoded data removed]"
          },
          "metadata": {}
        }
      ]
    },
    {
      "cell_type": "code",
      "source": [
        "X = df.iloc[:,0:2].values\n",
        "y = df.iloc[:,-1].values"
      ],
      "metadata": {
        "id": "Skba7svesdeN"
      },
      "execution_count": 10,
      "outputs": []
    },
    {
      "cell_type": "markdown",
      "source": [
        "**He normal initialization**"
      ],
      "metadata": {
        "id": "8baNy909s5ZZ"
      }
    },
    {
      "cell_type": "code",
      "source": [
        "model = Sequential()\n",
        "model.add(Dense(10,activation='relu',input_dim=2,kernel_initializer='he_normal'))\n",
        "model.add(Dense(10,activation='relu',kernel_initializer='he_normal'))\n",
        "model.add(Dense(10,activation='relu',kernel_initializer='he_normal'))\n",
        "model.add(Dense(1,activation='sigmoid'))\n",
        "model.summary()"
      ],
      "metadata": {
        "colab": {
          "base_uri": "https://localhost:8080/",
          "height": 312
        },
        "id": "1onzuaH5s4-f",
        "outputId": "16ef763a-dec2-4757-fd4a-dedc7e5b60ce"
      },
      "execution_count": 13,
      "outputs": [
        {
          "output_type": "stream",
          "name": "stderr",
          "text": [
            "/usr/local/lib/python3.11/dist-packages/keras/src/layers/core/dense.py:87: UserWarning: Do not pass an `input_shape`/`input_dim` argument to a layer. When using Sequential models, prefer using an `Input(shape)` object as the first layer in the model instead.\n",
            "  super().__init__(activity_regularizer=activity_regularizer, **kwargs)\n"
          ]
        },
        {
          "output_type": "display_data",
          "data": {
            "text/plain": [
              "\u001b[1mModel: \"sequential_2\"\u001b[0m\n"
            ],
            "text/html": [
              "<pre style=\"white-space:pre;overflow-x:auto;line-height:normal;font-family:Menlo,'DejaVu Sans Mono',consolas,'Courier New',monospace\"><span style=\"font-weight: bold\">Model: \"sequential_2\"</span>\n",
              "</pre>\n"
            ]
          },
          "metadata": {}
        },
        {
          "output_type": "display_data",
          "data": {
            "text/plain": [
              "┏━━━━━━━━━━━━━━━━━━━━━━━━━━━━━━━━━┳━━━━━━━━━━━━━━━━━━━━━━━━┳━━━━━━━━━━━━━━━┓\n",
              "┃\u001b[1m \u001b[0m\u001b[1mLayer (type)                   \u001b[0m\u001b[1m \u001b[0m┃\u001b[1m \u001b[0m\u001b[1mOutput Shape          \u001b[0m\u001b[1m \u001b[0m┃\u001b[1m \u001b[0m\u001b[1m      Param #\u001b[0m\u001b[1m \u001b[0m┃\n",
              "┡━━━━━━━━━━━━━━━━━━━━━━━━━━━━━━━━━╇━━━━━━━━━━━━━━━━━━━━━━━━╇━━━━━━━━━━━━━━━┩\n",
              "│ dense_2 (\u001b[38;5;33mDense\u001b[0m)                 │ (\u001b[38;5;45mNone\u001b[0m, \u001b[38;5;34m10\u001b[0m)             │            \u001b[38;5;34m30\u001b[0m │\n",
              "├─────────────────────────────────┼────────────────────────┼───────────────┤\n",
              "│ dense_3 (\u001b[38;5;33mDense\u001b[0m)                 │ (\u001b[38;5;45mNone\u001b[0m, \u001b[38;5;34m10\u001b[0m)             │           \u001b[38;5;34m110\u001b[0m │\n",
              "├─────────────────────────────────┼────────────────────────┼───────────────┤\n",
              "│ dense_4 (\u001b[38;5;33mDense\u001b[0m)                 │ (\u001b[38;5;45mNone\u001b[0m, \u001b[38;5;34m10\u001b[0m)             │           \u001b[38;5;34m110\u001b[0m │\n",
              "├─────────────────────────────────┼────────────────────────┼───────────────┤\n",
              "│ dense_5 (\u001b[38;5;33mDense\u001b[0m)                 │ (\u001b[38;5;45mNone\u001b[0m, \u001b[38;5;34m1\u001b[0m)              │            \u001b[38;5;34m11\u001b[0m │\n",
              "└─────────────────────────────────┴────────────────────────┴───────────────┘\n"
            ],
            "text/html": [
              "<pre style=\"white-space:pre;overflow-x:auto;line-height:normal;font-family:Menlo,'DejaVu Sans Mono',consolas,'Courier New',monospace\">┏━━━━━━━━━━━━━━━━━━━━━━━━━━━━━━━━━┳━━━━━━━━━━━━━━━━━━━━━━━━┳━━━━━━━━━━━━━━━┓\n",
              "┃<span style=\"font-weight: bold\"> Layer (type)                    </span>┃<span style=\"font-weight: bold\"> Output Shape           </span>┃<span style=\"font-weight: bold\">       Param # </span>┃\n",
              "┡━━━━━━━━━━━━━━━━━━━━━━━━━━━━━━━━━╇━━━━━━━━━━━━━━━━━━━━━━━━╇━━━━━━━━━━━━━━━┩\n",
              "│ dense_2 (<span style=\"color: #0087ff; text-decoration-color: #0087ff\">Dense</span>)                 │ (<span style=\"color: #00d7ff; text-decoration-color: #00d7ff\">None</span>, <span style=\"color: #00af00; text-decoration-color: #00af00\">10</span>)             │            <span style=\"color: #00af00; text-decoration-color: #00af00\">30</span> │\n",
              "├─────────────────────────────────┼────────────────────────┼───────────────┤\n",
              "│ dense_3 (<span style=\"color: #0087ff; text-decoration-color: #0087ff\">Dense</span>)                 │ (<span style=\"color: #00d7ff; text-decoration-color: #00d7ff\">None</span>, <span style=\"color: #00af00; text-decoration-color: #00af00\">10</span>)             │           <span style=\"color: #00af00; text-decoration-color: #00af00\">110</span> │\n",
              "├─────────────────────────────────┼────────────────────────┼───────────────┤\n",
              "│ dense_4 (<span style=\"color: #0087ff; text-decoration-color: #0087ff\">Dense</span>)                 │ (<span style=\"color: #00d7ff; text-decoration-color: #00d7ff\">None</span>, <span style=\"color: #00af00; text-decoration-color: #00af00\">10</span>)             │           <span style=\"color: #00af00; text-decoration-color: #00af00\">110</span> │\n",
              "├─────────────────────────────────┼────────────────────────┼───────────────┤\n",
              "│ dense_5 (<span style=\"color: #0087ff; text-decoration-color: #0087ff\">Dense</span>)                 │ (<span style=\"color: #00d7ff; text-decoration-color: #00d7ff\">None</span>, <span style=\"color: #00af00; text-decoration-color: #00af00\">1</span>)              │            <span style=\"color: #00af00; text-decoration-color: #00af00\">11</span> │\n",
              "└─────────────────────────────────┴────────────────────────┴───────────────┘\n",
              "</pre>\n"
            ]
          },
          "metadata": {}
        },
        {
          "output_type": "display_data",
          "data": {
            "text/plain": [
              "\u001b[1m Total params: \u001b[0m\u001b[38;5;34m261\u001b[0m (1.02 KB)\n"
            ],
            "text/html": [
              "<pre style=\"white-space:pre;overflow-x:auto;line-height:normal;font-family:Menlo,'DejaVu Sans Mono',consolas,'Courier New',monospace\"><span style=\"font-weight: bold\"> Total params: </span><span style=\"color: #00af00; text-decoration-color: #00af00\">261</span> (1.02 KB)\n",
              "</pre>\n"
            ]
          },
          "metadata": {}
        },
        {
          "output_type": "display_data",
          "data": {
            "text/plain": [
              "\u001b[1m Trainable params: \u001b[0m\u001b[38;5;34m261\u001b[0m (1.02 KB)\n"
            ],
            "text/html": [
              "<pre style=\"white-space:pre;overflow-x:auto;line-height:normal;font-family:Menlo,'DejaVu Sans Mono',consolas,'Courier New',monospace\"><span style=\"font-weight: bold\"> Trainable params: </span><span style=\"color: #00af00; text-decoration-color: #00af00\">261</span> (1.02 KB)\n",
              "</pre>\n"
            ]
          },
          "metadata": {}
        },
        {
          "output_type": "display_data",
          "data": {
            "text/plain": [
              "\u001b[1m Non-trainable params: \u001b[0m\u001b[38;5;34m0\u001b[0m (0.00 B)\n"
            ],
            "text/html": [
              "<pre style=\"white-space:pre;overflow-x:auto;line-height:normal;font-family:Menlo,'DejaVu Sans Mono',consolas,'Courier New',monospace\"><span style=\"font-weight: bold\"> Non-trainable params: </span><span style=\"color: #00af00; text-decoration-color: #00af00\">0</span> (0.00 B)\n",
              "</pre>\n"
            ]
          },
          "metadata": {}
        }
      ]
    },
    {
      "cell_type": "code",
      "source": [
        "model.get_weights()"
      ],
      "metadata": {
        "colab": {
          "base_uri": "https://localhost:8080/"
        },
        "id": "GmX0hqdZtUWw",
        "outputId": "c1f94821-bcf7-424c-c56b-c774642ccedb"
      },
      "execution_count": 14,
      "outputs": [
        {
          "output_type": "execute_result",
          "data": {
            "text/plain": [
              "[array([[-0.7489402 ,  0.37159723,  1.4155416 , -0.2658302 , -1.7553487 ,\n",
              "          0.34224835, -0.5013761 , -1.4396051 , -0.50510174, -0.4795118 ],\n",
              "        [-0.9699177 ,  1.3197016 , -0.3127529 ,  0.76127505, -0.4325687 ,\n",
              "         -0.91920465,  0.8289255 , -0.11597341, -0.47233802, -1.0500464 ]],\n",
              "       dtype=float32),\n",
              " array([0., 0., 0., 0., 0., 0., 0., 0., 0., 0.], dtype=float32),\n",
              " array([[-0.5986575 ,  0.3616959 , -0.5180134 ,  0.6549768 , -0.1780264 ,\n",
              "         -0.30896372, -0.4014125 ,  0.1532652 ,  0.34576938,  0.37052488],\n",
              "        [-0.00863425, -0.5036643 ,  0.3264396 ,  0.15997082, -0.4524603 ,\n",
              "         -0.10154382,  0.08544018,  0.80265474,  0.42466322, -0.08680476],\n",
              "        [-0.14190763, -0.57821447, -0.16188376, -0.63536894, -0.4846778 ,\n",
              "          0.48100257, -0.48846933, -0.52368766,  0.2814159 ,  0.74104345],\n",
              "        [ 0.22784196, -0.26749462,  0.58980155, -0.18030405, -0.38082364,\n",
              "         -0.58998233, -0.6276735 ,  0.3118626 , -0.02093786,  0.4003546 ],\n",
              "        [-0.00895291,  0.5867718 ,  0.54018927,  0.25532988,  0.14322107,\n",
              "          0.71338344,  0.51434183, -0.46955776, -0.45005482,  0.1182586 ],\n",
              "        [-0.312334  ,  0.02692624,  0.04813576, -0.1279353 ,  0.04260509,\n",
              "          0.6915028 ,  0.13793856, -0.28865594, -0.12807171,  0.2851404 ],\n",
              "        [-0.68343616, -0.24838726, -0.56253886, -0.5123552 ,  0.5479068 ,\n",
              "         -0.633765  , -0.17447774, -0.25798866, -0.01425072,  0.13399361],\n",
              "        [ 0.349582  ,  0.64522207,  0.3905225 ,  0.09981737,  0.04694572,\n",
              "         -0.689855  , -0.4697311 , -0.17532425, -0.04293362,  0.00540107],\n",
              "        [ 0.39752972,  0.02217357,  0.0219783 , -0.04480185,  0.56704813,\n",
              "          0.31178737, -0.3122431 , -0.19888003, -0.47723603,  0.09419741],\n",
              "        [ 0.4911571 , -0.6877722 , -0.3162285 ,  0.6027829 , -0.43485644,\n",
              "          0.36379978, -0.9141602 , -0.15047367, -0.41383466,  0.44063687]],\n",
              "       dtype=float32),\n",
              " array([0., 0., 0., 0., 0., 0., 0., 0., 0., 0.], dtype=float32),\n",
              " array([[ 0.97312886,  0.43267763,  0.53242457, -0.8555301 , -0.48025244,\n",
              "          0.28949803, -0.24702969,  0.843255  , -0.5360529 , -0.5067434 ],\n",
              "        [-0.950964  ,  0.920243  ,  0.58739156, -0.11789772,  0.2422386 ,\n",
              "          0.15166634,  0.4632941 ,  0.05456165, -0.04130016, -0.22873856],\n",
              "        [-0.8301926 , -0.37484792, -0.44670194,  1.0167955 , -0.10803223,\n",
              "         -0.06349774,  0.48902544,  0.10649827,  0.10230885,  0.16403797],\n",
              "        [-0.3671465 , -0.19686542, -0.23558436, -0.14477925,  0.621023  ,\n",
              "          0.46944383, -0.2083854 ,  0.2818921 ,  0.16584697, -0.29868653],\n",
              "        [-0.1051264 , -0.2458304 ,  0.25579208, -0.758378  ,  0.20508209,\n",
              "         -0.08804848, -0.13127802, -0.40649053,  0.39737675,  0.38140097],\n",
              "        [ 0.10934203,  0.22462316, -0.1698932 ,  0.37680385,  0.36971682,\n",
              "          0.6391735 ,  0.53912914, -0.2627359 , -0.3769833 , -0.7936563 ],\n",
              "        [ 0.42924595, -0.2086554 , -0.034231  ,  0.4534412 , -0.23307218,\n",
              "         -0.4244292 , -0.5782879 ,  0.86417127,  0.38626167, -0.44646648],\n",
              "        [ 0.0726286 ,  0.5036544 ,  0.54273385, -0.09417605,  0.76144814,\n",
              "          0.10005094, -0.9103176 ,  0.2986282 ,  0.5819612 , -0.50906396],\n",
              "        [ 0.8938697 , -0.34176713,  0.4179489 ,  0.37159675,  0.13732508,\n",
              "         -0.1735602 , -0.60649604, -0.24156886,  0.13370104,  0.02132083],\n",
              "        [ 0.23570779,  0.26244116,  0.2503103 ,  0.38468406,  0.2828824 ,\n",
              "          0.10109499,  0.13977696, -0.4877248 , -0.57231265,  0.79682696]],\n",
              "       dtype=float32),\n",
              " array([0., 0., 0., 0., 0., 0., 0., 0., 0., 0.], dtype=float32),\n",
              " array([[ 0.18254006],\n",
              "        [-0.0930717 ],\n",
              "        [-0.1300379 ],\n",
              "        [ 0.6245907 ],\n",
              "        [-0.31377727],\n",
              "        [ 0.06607509],\n",
              "        [ 0.42458516],\n",
              "        [ 0.37713128],\n",
              "        [-0.43013218],\n",
              "        [-0.09605426]], dtype=float32),\n",
              " array([0.], dtype=float32)]"
            ]
          },
          "metadata": {},
          "execution_count": 14
        }
      ]
    },
    {
      "cell_type": "code",
      "source": [
        "initial_weights = model.get_weights()\n",
        "initial_weights[0] = np.random.randn(2,10)*np.sqrt(2/2)\n",
        "initial_weights[1] = np.zeros(model.get_weights()[1].shape)\n",
        "initial_weights[2] = np.random.randn(10,10)*np.sqrt(2/10)\n",
        "initial_weights[3] = np.zeros(model.get_weights()[3].shape)\n",
        "initial_weights[4] = np.random.randn(10,10)*np.sqrt(2/10)\n",
        "initial_weights[5] = np.zeros(model.get_weights()[5].shape)\n",
        "initial_weights[6] = np.random.randn(10,1)*np.sqrt(2/10)\n",
        "initial_weights[7] = np.zeros(model.get_weights()[7].shape)\n"
      ],
      "metadata": {
        "id": "4QYm51UytcKb"
      },
      "execution_count": 19,
      "outputs": []
    },
    {
      "cell_type": "code",
      "source": [
        "model.set_weights(initial_weights)"
      ],
      "metadata": {
        "id": "1AJg4rgTtg_H"
      },
      "execution_count": 20,
      "outputs": []
    },
    {
      "cell_type": "code",
      "source": [
        "model.get_weights()"
      ],
      "metadata": {
        "colab": {
          "base_uri": "https://localhost:8080/"
        },
        "id": "RWAcdWfZuF3N",
        "outputId": "6357c205-f788-4ccd-b274-4efcf9071a2b"
      },
      "execution_count": 21,
      "outputs": [
        {
          "output_type": "execute_result",
          "data": {
            "text/plain": [
              "[array([[ 1.7918769 ,  2.3484232 ,  0.77358943, -0.50321895,  0.472349  ,\n",
              "         -2.191402  ,  0.53860265, -0.33347428, -0.9178062 ,  0.31380185],\n",
              "        [-0.63993216, -0.04376996,  2.4139967 ,  0.01693111,  0.6558234 ,\n",
              "          1.4379736 , -0.90490985, -0.1639879 , -0.07742121,  0.6427866 ]],\n",
              "       dtype=float32),\n",
              " array([0., 0., 0., 0., 0., 0., 0., 0., 0., 0.], dtype=float32),\n",
              " array([[-6.8148738e-01, -8.8638091e-01, -1.3982639e-01, -1.0202150e-01,\n",
              "          8.3537173e-01, -1.6125752e-01,  1.0764448e-01,  1.5213451e-01,\n",
              "         -7.3893887e-01,  6.1668622e-01],\n",
              "        [-1.6925122e-01,  4.1706145e-01,  8.7695462e-01,  5.8699530e-01,\n",
              "         -9.2679873e-02,  3.6481601e-01, -1.5948127e-01, -3.3949587e-01,\n",
              "         -4.1231540e-01, -8.7359709e-01],\n",
              "        [ 3.4881208e-02, -3.5553956e-01, -8.4390825e-01,  9.6568443e-02,\n",
              "         -2.7926512e-02, -6.1416611e-02,  3.2690874e-01,  1.4831205e-01,\n",
              "         -1.4950931e-02,  2.6274624e-01],\n",
              "        [ 1.2572533e-01,  6.0195524e-02,  3.2109225e-01,  6.8476230e-01,\n",
              "         -2.5779751e-01,  3.9735255e-01,  1.6788752e-01,  4.3693975e-01,\n",
              "          7.6316524e-01, -5.7035691e-01],\n",
              "        [-2.4661577e-01,  7.4857920e-01, -8.1427014e-01, -5.3570408e-01,\n",
              "         -8.1879920e-01, -5.8395022e-01, -5.7815731e-01, -6.0732758e-01,\n",
              "         -1.9859906e-01, -2.1646684e-01],\n",
              "        [ 4.0160891e-02,  3.1295514e-01,  6.2043649e-01,  4.3338251e-01,\n",
              "         -1.7485728e-02,  5.9681380e-01,  3.4073609e-01,  3.3291927e-01,\n",
              "         -5.3975624e-01,  2.5543332e-01],\n",
              "        [-5.2632578e-02,  2.3038481e-01,  1.9925678e-01, -5.8787447e-01,\n",
              "         -1.5343668e-01, -1.0965573e-01,  7.2633922e-01, -3.7391875e-02,\n",
              "         -5.0600177e-01, -3.3623132e-01],\n",
              "        [-3.0602676e-01, -5.5214810e-01, -1.0282432e-01,  1.6247939e-01,\n",
              "          4.1967252e-01, -6.6657197e-01,  3.6470249e-01,  6.5156728e-02,\n",
              "          1.7577867e-01,  8.6200815e-01],\n",
              "        [-1.0400413e+00, -4.0462255e-01,  3.0877516e-01,  3.8639230e-01,\n",
              "          3.7496936e-02,  8.8332146e-01,  3.3269188e-01, -3.5413996e-05,\n",
              "          1.4279515e-02,  2.2747900e-01],\n",
              "        [ 2.5804877e-01,  1.3718948e-01, -1.9244360e-02,  3.7004322e-01,\n",
              "         -2.5206658e-01,  5.9986335e-01, -1.9593051e-01,  3.0201027e-01,\n",
              "          2.4689040e-01,  7.8314298e-01]], dtype=float32),\n",
              " array([0., 0., 0., 0., 0., 0., 0., 0., 0., 0.], dtype=float32),\n",
              " array([[ 0.40146136,  0.22131824,  0.13077366,  0.05835983, -0.06128909,\n",
              "         -0.08654381, -0.24498352,  0.10819304, -0.22355963, -0.43012783],\n",
              "        [-0.2851828 ,  0.02727864,  0.01112789, -0.5492656 , -0.12271778,\n",
              "          0.17095548,  0.636857  ,  0.08395014, -0.22855839,  0.01102676],\n",
              "        [-0.3647264 , -0.23219952,  0.04611862,  0.27136198,  0.19100657,\n",
              "         -0.39278036, -0.1648153 ,  0.5219097 ,  0.21976508, -1.022333  ],\n",
              "        [-0.6369622 , -0.20487472,  0.26093617,  0.21763921,  0.5197916 ,\n",
              "          0.02954515,  0.6145578 ,  0.68849653,  0.04446306, -0.21041553],\n",
              "        [ 0.7526869 ,  0.5325377 ,  0.5139501 , -0.14560981, -0.15944381,\n",
              "          0.7008765 , -0.6238016 , -0.6484545 ,  0.24985005,  0.45773962],\n",
              "        [-0.03512684, -0.24343336,  0.34139043,  0.04500838, -0.05287291,\n",
              "         -0.489157  , -0.98574567,  0.5105419 ,  0.35141814,  1.0092592 ],\n",
              "        [ 0.03053864, -0.11701508, -0.59719294,  0.38740164,  0.19393906,\n",
              "          0.65732247, -0.3833123 , -0.19258367,  0.26696956,  0.51439774],\n",
              "        [ 0.2533504 , -0.06032196, -0.57335496,  0.27552968, -0.11014418,\n",
              "          1.2441609 ,  0.30659598,  0.08121265,  0.2830143 ,  0.43689772],\n",
              "        [ 0.49856147, -0.5616232 , -0.00695614,  0.03985642, -0.7275432 ,\n",
              "          0.08812671,  0.00423079,  0.16064355, -0.10772357, -0.9451775 ],\n",
              "        [ 0.43714547,  0.6119204 , -0.5228319 , -0.14875609,  0.40062276,\n",
              "          0.6640766 , -0.14947656, -0.08227588,  0.03929482,  0.30928084]],\n",
              "       dtype=float32),\n",
              " array([0., 0., 0., 0., 0., 0., 0., 0., 0., 0.], dtype=float32),\n",
              " array([[ 0.17540878],\n",
              "        [ 0.50948393],\n",
              "        [ 0.25549155],\n",
              "        [ 0.63197094],\n",
              "        [ 0.63115954],\n",
              "        [-0.81166476],\n",
              "        [-0.10752023],\n",
              "        [ 0.14396249],\n",
              "        [ 0.2743891 ],\n",
              "        [ 0.7543989 ]], dtype=float32),\n",
              " array([0.], dtype=float32)]"
            ]
          },
          "metadata": {},
          "execution_count": 21
        }
      ]
    },
    {
      "cell_type": "code",
      "source": [
        "model.compile(loss='binary_crossentropy',optimizer='adam',metrics=['accuracy'])"
      ],
      "metadata": {
        "id": "lqF3HjUIuU1g"
      },
      "execution_count": 22,
      "outputs": []
    },
    {
      "cell_type": "code",
      "source": [],
      "metadata": {
        "id": "FmOz_pcUvByO"
      },
      "execution_count": null,
      "outputs": []
    },
    {
      "cell_type": "code",
      "source": [
        "history = model.fit(X,y,epochs=50,validation_split=0.2)"
      ],
      "metadata": {
        "colab": {
          "base_uri": "https://localhost:8080/"
        },
        "id": "ivoqyCtyue7I",
        "outputId": "5ff24e2a-4372-4063-a0ff-b09cd25cb3e7"
      },
      "execution_count": 28,
      "outputs": [
        {
          "output_type": "stream",
          "name": "stdout",
          "text": [
            "Epoch 1/50\n",
            "\u001b[1m3/3\u001b[0m \u001b[32m━━━━━━━━━━━━━━━━━━━━\u001b[0m\u001b[37m\u001b[0m \u001b[1m0s\u001b[0m 104ms/step - accuracy: 0.8874 - loss: 0.2954 - val_accuracy: 0.9000 - val_loss: 0.2188\n",
            "Epoch 2/50\n",
            "\u001b[1m3/3\u001b[0m \u001b[32m━━━━━━━━━━━━━━━━━━━━\u001b[0m\u001b[37m\u001b[0m \u001b[1m0s\u001b[0m 71ms/step - accuracy: 0.8679 - loss: 0.3162 - val_accuracy: 0.9000 - val_loss: 0.2173\n",
            "Epoch 3/50\n",
            "\u001b[1m3/3\u001b[0m \u001b[32m━━━━━━━━━━━━━━━━━━━━\u001b[0m\u001b[37m\u001b[0m \u001b[1m0s\u001b[0m 38ms/step - accuracy: 0.8562 - loss: 0.3363 - val_accuracy: 0.9000 - val_loss: 0.2161\n",
            "Epoch 4/50\n",
            "\u001b[1m3/3\u001b[0m \u001b[32m━━━━━━━━━━━━━━━━━━━━\u001b[0m\u001b[37m\u001b[0m \u001b[1m0s\u001b[0m 40ms/step - accuracy: 0.8405 - loss: 0.3707 - val_accuracy: 0.9000 - val_loss: 0.2146\n",
            "Epoch 5/50\n",
            "\u001b[1m3/3\u001b[0m \u001b[32m━━━━━━━━━━━━━━━━━━━━\u001b[0m\u001b[37m\u001b[0m \u001b[1m0s\u001b[0m 37ms/step - accuracy: 0.8796 - loss: 0.3125 - val_accuracy: 0.9000 - val_loss: 0.2125\n",
            "Epoch 6/50\n",
            "\u001b[1m3/3\u001b[0m \u001b[32m━━━━━━━━━━━━━━━━━━━━\u001b[0m\u001b[37m\u001b[0m \u001b[1m0s\u001b[0m 40ms/step - accuracy: 0.8835 - loss: 0.3039 - val_accuracy: 0.9000 - val_loss: 0.2110\n",
            "Epoch 7/50\n",
            "\u001b[1m3/3\u001b[0m \u001b[32m━━━━━━━━━━━━━━━━━━━━\u001b[0m\u001b[37m\u001b[0m \u001b[1m0s\u001b[0m 45ms/step - accuracy: 0.8444 - loss: 0.3557 - val_accuracy: 0.9000 - val_loss: 0.2102\n",
            "Epoch 8/50\n",
            "\u001b[1m3/3\u001b[0m \u001b[32m━━━━━━━━━━━━━━━━━━━━\u001b[0m\u001b[37m\u001b[0m \u001b[1m0s\u001b[0m 38ms/step - accuracy: 0.8562 - loss: 0.3350 - val_accuracy: 0.9500 - val_loss: 0.2088\n",
            "Epoch 9/50\n",
            "\u001b[1m3/3\u001b[0m \u001b[32m━━━━━━━━━━━━━━━━━━━━\u001b[0m\u001b[37m\u001b[0m \u001b[1m0s\u001b[0m 38ms/step - accuracy: 0.8562 - loss: 0.3211 - val_accuracy: 0.9500 - val_loss: 0.2076\n",
            "Epoch 10/50\n",
            "\u001b[1m3/3\u001b[0m \u001b[32m━━━━━━━━━━━━━━━━━━━━\u001b[0m\u001b[37m\u001b[0m \u001b[1m0s\u001b[0m 41ms/step - accuracy: 0.8718 - loss: 0.3153 - val_accuracy: 0.9500 - val_loss: 0.2070\n",
            "Epoch 11/50\n",
            "\u001b[1m3/3\u001b[0m \u001b[32m━━━━━━━━━━━━━━━━━━━━\u001b[0m\u001b[37m\u001b[0m \u001b[1m0s\u001b[0m 41ms/step - accuracy: 0.8444 - loss: 0.3402 - val_accuracy: 0.9500 - val_loss: 0.2063\n",
            "Epoch 12/50\n",
            "\u001b[1m3/3\u001b[0m \u001b[32m━━━━━━━━━━━━━━━━━━━━\u001b[0m\u001b[37m\u001b[0m \u001b[1m0s\u001b[0m 39ms/step - accuracy: 0.8835 - loss: 0.2919 - val_accuracy: 0.9500 - val_loss: 0.2053\n",
            "Epoch 13/50\n",
            "\u001b[1m3/3\u001b[0m \u001b[32m━━━━━━━━━━━━━━━━━━━━\u001b[0m\u001b[37m\u001b[0m \u001b[1m0s\u001b[0m 39ms/step - accuracy: 0.8718 - loss: 0.3247 - val_accuracy: 0.9000 - val_loss: 0.2049\n",
            "Epoch 14/50\n",
            "\u001b[1m3/3\u001b[0m \u001b[32m━━━━━━━━━━━━━━━━━━━━\u001b[0m\u001b[37m\u001b[0m \u001b[1m0s\u001b[0m 41ms/step - accuracy: 0.8444 - loss: 0.3607 - val_accuracy: 0.9000 - val_loss: 0.2047\n",
            "Epoch 15/50\n",
            "\u001b[1m3/3\u001b[0m \u001b[32m━━━━━━━━━━━━━━━━━━━━\u001b[0m\u001b[37m\u001b[0m \u001b[1m0s\u001b[0m 40ms/step - accuracy: 0.8562 - loss: 0.3379 - val_accuracy: 0.9000 - val_loss: 0.2044\n",
            "Epoch 16/50\n",
            "\u001b[1m3/3\u001b[0m \u001b[32m━━━━━━━━━━━━━━━━━━━━\u001b[0m\u001b[37m\u001b[0m \u001b[1m0s\u001b[0m 41ms/step - accuracy: 0.8835 - loss: 0.2944 - val_accuracy: 0.9000 - val_loss: 0.2038\n",
            "Epoch 17/50\n",
            "\u001b[1m3/3\u001b[0m \u001b[32m━━━━━━━━━━━━━━━━━━━━\u001b[0m\u001b[37m\u001b[0m \u001b[1m0s\u001b[0m 39ms/step - accuracy: 0.8640 - loss: 0.3087 - val_accuracy: 0.9000 - val_loss: 0.2032\n",
            "Epoch 18/50\n",
            "\u001b[1m3/3\u001b[0m \u001b[32m━━━━━━━━━━━━━━━━━━━━\u001b[0m\u001b[37m\u001b[0m \u001b[1m0s\u001b[0m 39ms/step - accuracy: 0.8366 - loss: 0.3362 - val_accuracy: 0.9000 - val_loss: 0.2028\n",
            "Epoch 19/50\n",
            "\u001b[1m3/3\u001b[0m \u001b[32m━━━━━━━━━━━━━━━━━━━━\u001b[0m\u001b[37m\u001b[0m \u001b[1m0s\u001b[0m 40ms/step - accuracy: 0.8874 - loss: 0.2920 - val_accuracy: 0.9000 - val_loss: 0.2017\n",
            "Epoch 20/50\n",
            "\u001b[1m3/3\u001b[0m \u001b[32m━━━━━━━━━━━━━━━━━━━━\u001b[0m\u001b[37m\u001b[0m \u001b[1m0s\u001b[0m 39ms/step - accuracy: 0.8874 - loss: 0.2978 - val_accuracy: 0.9000 - val_loss: 0.2007\n",
            "Epoch 21/50\n",
            "\u001b[1m3/3\u001b[0m \u001b[32m━━━━━━━━━━━━━━━━━━━━\u001b[0m\u001b[37m\u001b[0m \u001b[1m0s\u001b[0m 39ms/step - accuracy: 0.8601 - loss: 0.3157 - val_accuracy: 0.9000 - val_loss: 0.1999\n",
            "Epoch 22/50\n",
            "\u001b[1m3/3\u001b[0m \u001b[32m━━━━━━━━━━━━━━━━━━━━\u001b[0m\u001b[37m\u001b[0m \u001b[1m0s\u001b[0m 41ms/step - accuracy: 0.8601 - loss: 0.3126 - val_accuracy: 0.9500 - val_loss: 0.1992\n",
            "Epoch 23/50\n",
            "\u001b[1m3/3\u001b[0m \u001b[32m━━━━━━━━━━━━━━━━━━━━\u001b[0m\u001b[37m\u001b[0m \u001b[1m0s\u001b[0m 39ms/step - accuracy: 0.8679 - loss: 0.3238 - val_accuracy: 0.9500 - val_loss: 0.1988\n",
            "Epoch 24/50\n",
            "\u001b[1m3/3\u001b[0m \u001b[32m━━━━━━━━━━━━━━━━━━━━\u001b[0m\u001b[37m\u001b[0m \u001b[1m0s\u001b[0m 39ms/step - accuracy: 0.8757 - loss: 0.2790 - val_accuracy: 0.9500 - val_loss: 0.1984\n",
            "Epoch 25/50\n",
            "\u001b[1m3/3\u001b[0m \u001b[32m━━━━━━━━━━━━━━━━━━━━\u001b[0m\u001b[37m\u001b[0m \u001b[1m0s\u001b[0m 39ms/step - accuracy: 0.8679 - loss: 0.3253 - val_accuracy: 0.9500 - val_loss: 0.1985\n",
            "Epoch 26/50\n",
            "\u001b[1m3/3\u001b[0m \u001b[32m━━━━━━━━━━━━━━━━━━━━\u001b[0m\u001b[37m\u001b[0m \u001b[1m0s\u001b[0m 39ms/step - accuracy: 0.8483 - loss: 0.3105 - val_accuracy: 0.9500 - val_loss: 0.1984\n",
            "Epoch 27/50\n",
            "\u001b[1m3/3\u001b[0m \u001b[32m━━━━━━━━━━━━━━━━━━━━\u001b[0m\u001b[37m\u001b[0m \u001b[1m0s\u001b[0m 39ms/step - accuracy: 0.8523 - loss: 0.3357 - val_accuracy: 0.9500 - val_loss: 0.1985\n",
            "Epoch 28/50\n",
            "\u001b[1m3/3\u001b[0m \u001b[32m━━━━━━━━━━━━━━━━━━━━\u001b[0m\u001b[37m\u001b[0m \u001b[1m0s\u001b[0m 38ms/step - accuracy: 0.8601 - loss: 0.3339 - val_accuracy: 0.9500 - val_loss: 0.1983\n",
            "Epoch 29/50\n",
            "\u001b[1m3/3\u001b[0m \u001b[32m━━━━━━━━━━━━━━━━━━━━\u001b[0m\u001b[37m\u001b[0m \u001b[1m0s\u001b[0m 38ms/step - accuracy: 0.8718 - loss: 0.3087 - val_accuracy: 0.9500 - val_loss: 0.1976\n",
            "Epoch 30/50\n",
            "\u001b[1m3/3\u001b[0m \u001b[32m━━━━━━━━━━━━━━━━━━━━\u001b[0m\u001b[37m\u001b[0m \u001b[1m0s\u001b[0m 40ms/step - accuracy: 0.8523 - loss: 0.3182 - val_accuracy: 0.9500 - val_loss: 0.1963\n",
            "Epoch 31/50\n",
            "\u001b[1m3/3\u001b[0m \u001b[32m━━━━━━━━━━━━━━━━━━━━\u001b[0m\u001b[37m\u001b[0m \u001b[1m0s\u001b[0m 40ms/step - accuracy: 0.8327 - loss: 0.3378 - val_accuracy: 0.9500 - val_loss: 0.1952\n",
            "Epoch 32/50\n",
            "\u001b[1m3/3\u001b[0m \u001b[32m━━━━━━━━━━━━━━━━━━━━\u001b[0m\u001b[37m\u001b[0m \u001b[1m0s\u001b[0m 38ms/step - accuracy: 0.8601 - loss: 0.3106 - val_accuracy: 0.9500 - val_loss: 0.1938\n",
            "Epoch 33/50\n",
            "\u001b[1m3/3\u001b[0m \u001b[32m━━━━━━━━━━━━━━━━━━━━\u001b[0m\u001b[37m\u001b[0m \u001b[1m0s\u001b[0m 40ms/step - accuracy: 0.8874 - loss: 0.2734 - val_accuracy: 0.9500 - val_loss: 0.1916\n",
            "Epoch 34/50\n",
            "\u001b[1m3/3\u001b[0m \u001b[32m━━━━━━━━━━━━━━━━━━━━\u001b[0m\u001b[37m\u001b[0m \u001b[1m0s\u001b[0m 39ms/step - accuracy: 0.8718 - loss: 0.2969 - val_accuracy: 0.9500 - val_loss: 0.1911\n",
            "Epoch 35/50\n",
            "\u001b[1m3/3\u001b[0m \u001b[32m━━━━━━━━━━━━━━━━━━━━\u001b[0m\u001b[37m\u001b[0m \u001b[1m0s\u001b[0m 38ms/step - accuracy: 0.8562 - loss: 0.2900 - val_accuracy: 0.9500 - val_loss: 0.1914\n",
            "Epoch 36/50\n",
            "\u001b[1m3/3\u001b[0m \u001b[32m━━━━━━━━━━━━━━━━━━━━\u001b[0m\u001b[37m\u001b[0m \u001b[1m0s\u001b[0m 36ms/step - accuracy: 0.8366 - loss: 0.3280 - val_accuracy: 0.9500 - val_loss: 0.1919\n",
            "Epoch 37/50\n",
            "\u001b[1m3/3\u001b[0m \u001b[32m━━━━━━━━━━━━━━━━━━━━\u001b[0m\u001b[37m\u001b[0m \u001b[1m0s\u001b[0m 40ms/step - accuracy: 0.8874 - loss: 0.2828 - val_accuracy: 0.9500 - val_loss: 0.1908\n",
            "Epoch 38/50\n",
            "\u001b[1m3/3\u001b[0m \u001b[32m━━━━━━━━━━━━━━━━━━━━\u001b[0m\u001b[37m\u001b[0m \u001b[1m0s\u001b[0m 57ms/step - accuracy: 0.8718 - loss: 0.2853 - val_accuracy: 0.9500 - val_loss: 0.1908\n",
            "Epoch 39/50\n",
            "\u001b[1m3/3\u001b[0m \u001b[32m━━━━━━━━━━━━━━━━━━━━\u001b[0m\u001b[37m\u001b[0m \u001b[1m0s\u001b[0m 39ms/step - accuracy: 0.8444 - loss: 0.3280 - val_accuracy: 0.9500 - val_loss: 0.1905\n",
            "Epoch 40/50\n",
            "\u001b[1m3/3\u001b[0m \u001b[32m━━━━━━━━━━━━━━━━━━━━\u001b[0m\u001b[37m\u001b[0m \u001b[1m0s\u001b[0m 41ms/step - accuracy: 0.8718 - loss: 0.2961 - val_accuracy: 0.9500 - val_loss: 0.1899\n",
            "Epoch 41/50\n",
            "\u001b[1m3/3\u001b[0m \u001b[32m━━━━━━━━━━━━━━━━━━━━\u001b[0m\u001b[37m\u001b[0m \u001b[1m0s\u001b[0m 39ms/step - accuracy: 0.8679 - loss: 0.2837 - val_accuracy: 0.9500 - val_loss: 0.1899\n",
            "Epoch 42/50\n",
            "\u001b[1m3/3\u001b[0m \u001b[32m━━━━━━━━━━━━━━━━━━━━\u001b[0m\u001b[37m\u001b[0m \u001b[1m0s\u001b[0m 38ms/step - accuracy: 0.8444 - loss: 0.3236 - val_accuracy: 0.9500 - val_loss: 0.1892\n",
            "Epoch 43/50\n",
            "\u001b[1m3/3\u001b[0m \u001b[32m━━━━━━━━━━━━━━━━━━━━\u001b[0m\u001b[37m\u001b[0m \u001b[1m0s\u001b[0m 40ms/step - accuracy: 0.8718 - loss: 0.3154 - val_accuracy: 0.9500 - val_loss: 0.1866\n",
            "Epoch 44/50\n",
            "\u001b[1m3/3\u001b[0m \u001b[32m━━━━━━━━━━━━━━━━━━━━\u001b[0m\u001b[37m\u001b[0m \u001b[1m0s\u001b[0m 40ms/step - accuracy: 0.8679 - loss: 0.3052 - val_accuracy: 0.9500 - val_loss: 0.1844\n",
            "Epoch 45/50\n",
            "\u001b[1m3/3\u001b[0m \u001b[32m━━━━━━━━━━━━━━━━━━━━\u001b[0m\u001b[37m\u001b[0m \u001b[1m0s\u001b[0m 40ms/step - accuracy: 0.8366 - loss: 0.3063 - val_accuracy: 0.9500 - val_loss: 0.1825\n",
            "Epoch 46/50\n",
            "\u001b[1m3/3\u001b[0m \u001b[32m━━━━━━━━━━━━━━━━━━━━\u001b[0m\u001b[37m\u001b[0m \u001b[1m0s\u001b[0m 41ms/step - accuracy: 0.8796 - loss: 0.2681 - val_accuracy: 0.9500 - val_loss: 0.1816\n",
            "Epoch 47/50\n",
            "\u001b[1m3/3\u001b[0m \u001b[32m━━━━━━━━━━━━━━━━━━━━\u001b[0m\u001b[37m\u001b[0m \u001b[1m0s\u001b[0m 39ms/step - accuracy: 0.8444 - loss: 0.3251 - val_accuracy: 0.9500 - val_loss: 0.1810\n",
            "Epoch 48/50\n",
            "\u001b[1m3/3\u001b[0m \u001b[32m━━━━━━━━━━━━━━━━━━━━\u001b[0m\u001b[37m\u001b[0m \u001b[1m0s\u001b[0m 42ms/step - accuracy: 0.8483 - loss: 0.2963 - val_accuracy: 0.9500 - val_loss: 0.1804\n",
            "Epoch 49/50\n",
            "\u001b[1m3/3\u001b[0m \u001b[32m━━━━━━━━━━━━━━━━━━━━\u001b[0m\u001b[37m\u001b[0m \u001b[1m0s\u001b[0m 44ms/step - accuracy: 0.8483 - loss: 0.3270 - val_accuracy: 0.9500 - val_loss: 0.1805\n",
            "Epoch 50/50\n",
            "\u001b[1m3/3\u001b[0m \u001b[32m━━━━━━━━━━━━━━━━━━━━\u001b[0m\u001b[37m\u001b[0m \u001b[1m0s\u001b[0m 41ms/step - accuracy: 0.8483 - loss: 0.3257 - val_accuracy: 0.9500 - val_loss: 0.1805\n"
          ]
        }
      ]
    },
    {
      "cell_type": "code",
      "source": [
        "model.get_weights()"
      ],
      "metadata": {
        "colab": {
          "base_uri": "https://localhost:8080/"
        },
        "id": "wnM1zv7gukRP",
        "outputId": "5cd33164-ef9a-4720-9577-253fe098e067"
      },
      "execution_count": 29,
      "outputs": [
        {
          "output_type": "execute_result",
          "data": {
            "text/plain": [
              "[array([[ 1.6863087 ,  2.4964716 ,  0.79149103, -0.49038547,  0.4405429 ,\n",
              "         -2.1978936 ,  0.60535306, -0.490408  , -0.8227598 ,  0.38857874],\n",
              "        [-0.70431834, -0.17509674,  2.4507208 ,  0.03864808,  0.7269873 ,\n",
              "          1.4346359 , -0.75007296, -0.13309588, -0.13429753,  0.6883497 ]],\n",
              "       dtype=float32),\n",
              " array([-0.04853115,  0.03005228,  0.1351501 , -0.07931349,  0.05844918,\n",
              "        -0.1255127 , -0.14630799,  0.01809832, -0.06864951,  0.03382325],\n",
              "       dtype=float32),\n",
              " array([[-0.61647016, -0.8206908 ,  0.03607945,  0.02344127,  0.76670337,\n",
              "         -0.07587396,  0.03817331,  0.23804437, -0.73893887,  0.68890226],\n",
              "        [-0.08298985,  0.5372156 ,  1.0410463 ,  0.69248915, -0.17575775,\n",
              "          0.3485407 , -0.19701204, -0.16200057, -0.4123154 , -0.79617214],\n",
              "        [ 0.10161895, -0.23175777, -0.80524594,  0.06654152, -0.19219932,\n",
              "         -0.12078901,  0.27070546,  0.3224728 , -0.01495093,  0.36466032],\n",
              "        [ 0.18832088,  0.23622826,  0.37262166,  0.6536535 , -0.15733282,\n",
              "          0.28905547,  0.19517261,  0.61714196,  0.76316524, -0.3882407 ],\n",
              "        [-0.17656301,  0.88071084, -0.75898236, -0.57324594, -0.9705488 ,\n",
              "         -0.6451929 , -0.6264637 , -0.42362022, -0.19859906, -0.11950234],\n",
              "        [ 0.10503222,  0.42964885,  0.64882386,  0.34438643,  0.09349963,\n",
              "          0.5204455 ,  0.31399393,  0.4437384 , -0.56037164,  0.46342462],\n",
              "        [-0.05263258,  0.11039985,  0.406869  , -0.44080338, -0.18449974,\n",
              "          0.09918759,  0.6412401 , -0.33678162, -0.5060018 , -0.55084175],\n",
              "        [-0.25167552, -0.35702443,  0.03372276,  0.0773159 ,  0.55651176,\n",
              "         -0.80155027,  0.35133538,  0.22993004,  0.1497499 ,  1.0758264 ],\n",
              "        [-0.97707677, -0.22708254,  0.37729752,  0.34754658,  0.14080293,\n",
              "          0.77158   ,  0.3510198 ,  0.17850655,  0.01427951,  0.41101107],\n",
              "        [ 0.32036954,  0.2707849 ,  0.03074735,  0.34771252, -0.43328047,\n",
              "          0.5387457 , -0.23781897,  0.4874837 ,  0.2468904 ,  0.8715109 ]],\n",
              "       dtype=float32),\n",
              " array([ 0.17918153,  0.04705966,  0.13925087, -0.15672214,  0.17680706,\n",
              "        -0.03362571, -0.17658189,  0.01235989, -0.02615012,  0.24387395],\n",
              "       dtype=float32),\n",
              " array([[ 5.1352078e-01,  2.7459568e-01,  3.5436925e-01,  2.1022253e-03,\n",
              "         -4.9284734e-02, -1.2524548e-01, -2.7963689e-01, -3.7679873e-02,\n",
              "         -2.5129712e-01, -4.2793310e-01],\n",
              "        [-3.1979465e-01, -1.0328841e-01, -1.4129505e-01, -6.9009572e-01,\n",
              "         -3.3271047e-01,  3.4930688e-01,  8.3260745e-01, -1.2894066e-01,\n",
              "         -3.6243981e-01, -1.2971100e-01],\n",
              "        [-3.5420972e-01, -2.1182713e-01,  2.7612454e-01,  3.3450919e-01,\n",
              "          2.5066382e-01, -3.4819901e-01, -4.9636310e-01,  5.6412476e-01,\n",
              "          2.8233510e-01, -1.1588566e+00],\n",
              "        [-8.8997328e-01, -4.1209352e-01,  3.0216256e-01,  1.7275238e-01,\n",
              "          4.0204278e-01,  1.5354729e-01,  7.1543425e-01,  5.9066832e-01,\n",
              "         -7.4215457e-03, -3.1767327e-01],\n",
              "        [ 8.6240458e-01,  6.1575687e-01,  7.5314701e-01,  5.6685125e-03,\n",
              "          3.0184234e-04,  6.4970589e-01, -8.0610102e-01, -5.1650602e-01,\n",
              "          4.0839079e-01,  2.2520217e-01],\n",
              "        [-2.0577335e-01, -3.4143737e-01,  5.3170449e-01, -3.8589474e-02,\n",
              "         -1.3788804e-01, -3.9438745e-01, -1.0287216e+00,  4.3329057e-01,\n",
              "          2.6929176e-01,  9.2255443e-01],\n",
              "        [-4.2572737e-02, -1.8303141e-01, -4.8139429e-01,  2.8069621e-01,\n",
              "          1.0154053e-01,  7.6258206e-01, -3.3278275e-01, -2.8262046e-01,\n",
              "          1.6631985e-01,  4.3132514e-01],\n",
              "        [ 2.3406909e-01, -1.2736468e-01, -4.9302202e-01,  1.5262337e-01,\n",
              "         -2.4084960e-01,  1.3764822e+00,  4.2041624e-01, -6.2248699e-02,\n",
              "          1.6767292e-01,  3.3458042e-01],\n",
              "        [ 5.0851184e-01, -5.4946238e-01, -6.9561382e-03,  3.9856415e-02,\n",
              "         -7.1667856e-01,  7.3470123e-02,  3.4289476e-03,  1.6064355e-01,\n",
              "         -9.9010549e-02, -9.4517750e-01],\n",
              "        [ 4.9175721e-01,  6.0082918e-01, -6.9447261e-01, -2.8055739e-01,\n",
              "          2.8632429e-01,  7.8082222e-01, -4.1262068e-02, -2.3069152e-01,\n",
              "         -7.1965143e-02,  2.2796406e-01]], dtype=float32),\n",
              " array([ 0.40189275,  0.22138669,  0.12525865,  0.00165557, -0.00781395,\n",
              "         0.00887135,  0.02534049, -0.08225591,  0.03369815, -0.02629193],\n",
              "       dtype=float32),\n",
              " array([[ 0.5539538 ],\n",
              "        [ 0.7176259 ],\n",
              "        [ 0.49633905],\n",
              "        [ 0.63382035],\n",
              "        [ 0.5576314 ],\n",
              "        [-0.9574659 ],\n",
              "        [-0.33673176],\n",
              "        [ 0.07275494],\n",
              "        [ 0.24039026],\n",
              "        [ 0.713938  ]], dtype=float32),\n",
              " array([0.02963269], dtype=float32)]"
            ]
          },
          "metadata": {},
          "execution_count": 29
        }
      ]
    },
    {
      "cell_type": "code",
      "source": [
        "from mlxtend.plotting import plot_decision_regions\n",
        "plot_decision_regions(X,y.astype('int'),clf=model,legend=2)"
      ],
      "metadata": {
        "colab": {
          "base_uri": "https://localhost:8080/",
          "height": 465
        },
        "id": "Mm_Xq9M4uqUw",
        "outputId": "be10af15-48fd-4407-de53-75723df6a92e"
      },
      "execution_count": 30,
      "outputs": [
        {
          "output_type": "stream",
          "name": "stdout",
          "text": [
            "\u001b[1m9600/9600\u001b[0m \u001b[32m━━━━━━━━━━━━━━━━━━━━\u001b[0m\u001b[37m\u001b[0m \u001b[1m10s\u001b[0m 1ms/step\n"
          ]
        },
        {
          "output_type": "execute_result",
          "data": {
            "text/plain": [
              "<Axes: >"
            ]
          },
          "metadata": {},
          "execution_count": 30
        },
        {
          "output_type": "display_data",
          "data": {
            "text/plain": [
              "<Figure size 640x480 with 1 Axes>"
            ],
            "image/png": "[encoded data removed]"
          },
          "metadata": {}
        }
      ]
    },
    {
      "cell_type": "code",
      "source": [],
      "metadata": {
        "id": "6b5DhyLau0tK"
      },
      "execution_count": null,
      "outputs": []
    }
  ]
}